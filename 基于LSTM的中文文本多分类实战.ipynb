{
 "cells": [
  {
   "cell_type": "markdown",
   "metadata": {},
   "source": [
    "在我之前的博客中我们介绍了文本的多分类的方法,我们还尝试了各种分类模型,比如朴素贝叶斯、逻辑回归、支持向量机和随机森林等并且都取得了非常不错的效果。今天我们使用深度学习中的LSTM（Long Short-Term Memory）长短期记忆网络，它是一种时间循环神经网络，适合于处理和预测时间序列中间隔和延迟相对较长的重要事件。\n",
    "LSTM 已经在科技领域有了多种应用。基于 LSTM 的系统可以学习翻译语言、控制机器人、图像分析、文档摘要、语音识别图像识别、手写识别、控制聊天机器人、预测疾病、点击率和股票、合成音乐等等任务。今天我们用它来实现一下文本多分类，相信会取得较好的效果。"
   ]
  },
  {
   "cell_type": "markdown",
   "metadata": {},
   "source": [
    "# 数据\n",
    "\n",
    "我们的数据来自于互联网，你可以在这里下载,数据中包含了10 个类别（书籍、平板、手机、水果、洗发水、热水器、蒙牛、衣服、计算机、酒店），共 6 万多条评论数据 首先查看一下我们的数据，这些数据都是来自于电商网站的用户评价数据,我们想要把不同评价数据分到不同的分类中去,且每条数据只能对应10个类中的一个类。\n",
    "\n",
    "[LSTM二分类和多分类代码的区别](https://www.it1352.com/1525153.html)\n",
    "\n",
    "数据下载地址:https://github.com/SophonPlus/ChineseNlpCorpus/blob/master/datasets/online_shopping_10_cats/intro.ipynb\n"
   ]
  },
  {
   "cell_type": "code",
   "execution_count": 5,
   "metadata": {
    "ExecuteTime": {
     "end_time": "2021-08-16T09:31:15.750615Z",
     "start_time": "2021-08-16T09:31:14.762395Z"
    }
   },
   "outputs": [],
   "source": [
    "#coding=utf-8\n",
    "# %matplotlib inline\n",
    "import pandas as pd\n",
    "import matplotlib\n",
    "import numpy as np\n",
    "import matplotlib.pyplot as plt\n",
    "plt.rcParams['font.sans-serif'] = ['SimHei']  \n",
    "plt.rcParams['axes.unicode_minus'] = False \n",
    "from keras.preprocessing.text import Tokenizer\n",
    "from keras.preprocessing.sequence import pad_sequences\n",
    "from keras.models import Sequential\n",
    "from keras.layers import Dense, Embedding, LSTM, SpatialDropout1D\n",
    "from sklearn.model_selection import train_test_split\n",
    "from keras.utils.np_utils import to_categorical\n",
    "from keras.callbacks import EarlyStopping\n",
    "from keras.layers import Dropout\n",
    "import jieba as jb\n",
    "import re\n",
    "import warnings\n",
    "\n",
    "warnings.filterwarnings('ignore')\n",
    "warnings.simplefilter('ignore')"
   ]
  },
  {
   "cell_type": "code",
   "execution_count": 6,
   "metadata": {
    "ExecuteTime": {
     "end_time": "2021-08-16T09:31:17.404204Z",
     "start_time": "2021-08-16T09:31:17.030515Z"
    }
   },
   "outputs": [
    {
     "name": "stdout",
     "output_type": "stream",
     "text": [
      "数据总量: 62774 .\n"
     ]
    },
    {
     "data": {
      "text/html": [
       "<div>\n",
       "<style scoped>\n",
       "    .dataframe tbody tr th:only-of-type {\n",
       "        vertical-align: middle;\n",
       "    }\n",
       "\n",
       "    .dataframe tbody tr th {\n",
       "        vertical-align: top;\n",
       "    }\n",
       "\n",
       "    .dataframe thead th {\n",
       "        text-align: right;\n",
       "    }\n",
       "</style>\n",
       "<table border=\"1\" class=\"dataframe\">\n",
       "  <thead>\n",
       "    <tr style=\"text-align: right;\">\n",
       "      <th></th>\n",
       "      <th>cat</th>\n",
       "      <th>review</th>\n",
       "    </tr>\n",
       "  </thead>\n",
       "  <tbody>\n",
       "    <tr>\n",
       "      <th>5140</th>\n",
       "      <td>平板</td>\n",
       "      <td>618活动比平时便宜，物流也没怎么受影响，两天就到了。M3我觉得可以算是平板界的旗舰了，跟家...</td>\n",
       "    </tr>\n",
       "    <tr>\n",
       "      <th>18282</th>\n",
       "      <td>水果</td>\n",
       "      <td>与一切过程无关，这个程度只与发货出库有关，我也不想说什么</td>\n",
       "    </tr>\n",
       "    <tr>\n",
       "      <th>9548</th>\n",
       "      <td>平板</td>\n",
       "      <td>买个**东西！真的只能看电视！玩王者荣耀 呵呵 开始不相信现在信了 不如苹果2688不如果苹...</td>\n",
       "    </tr>\n",
       "    <tr>\n",
       "      <th>8426</th>\n",
       "      <td>平板</td>\n",
       "      <td>这是我买的第三个华为M2，老爸一个，外甥女一个，今天给儿子买的！内存不N小，又配了闪存卡，超...</td>\n",
       "    </tr>\n",
       "    <tr>\n",
       "      <th>57712</th>\n",
       "      <td>酒店</td>\n",
       "      <td>1、酒店还算可以，设施有点旧，四星级勉强2、地处陈家坪，没有大型商场超市，背后有个美食街。送...</td>\n",
       "    </tr>\n",
       "    <tr>\n",
       "      <th>48945</th>\n",
       "      <td>计算机</td>\n",
       "      <td>首先性价比不错,收到货屏幕没有坏点,送了散热底座温度控制能平均低12度左右 ,不运行大程序发...</td>\n",
       "    </tr>\n",
       "    <tr>\n",
       "      <th>58320</th>\n",
       "      <td>酒店</td>\n",
       "      <td>预定的时候看见有大床房是没有窗户的，特意避开选择这种房型，选择了价格较高的舒适大床房，结果进...</td>\n",
       "    </tr>\n",
       "    <tr>\n",
       "      <th>36139</th>\n",
       "      <td>洗发水</td>\n",
       "      <td>洗发水都弄的满瓶都是，什么玩意。必须差评，还有就是发货发了几天</td>\n",
       "    </tr>\n",
       "    <tr>\n",
       "      <th>35522</th>\n",
       "      <td>洗发水</td>\n",
       "      <td>我之前用过霸王生姜，一洗头皮就有点发热。后面霸王下架了，在信和超市买了这产品，用了同样的效果...</td>\n",
       "    </tr>\n",
       "    <tr>\n",
       "      <th>41138</th>\n",
       "      <td>衣服</td>\n",
       "      <td>本来抱着试试的心态，没有想到物超所值！宝贝包装的也很好。客服态度很好！很贴心！物流也快，没两...</td>\n",
       "    </tr>\n",
       "  </tbody>\n",
       "</table>\n",
       "</div>"
      ],
      "text/plain": [
       "       cat                                             review\n",
       "5140    平板  618活动比平时便宜，物流也没怎么受影响，两天就到了。M3我觉得可以算是平板界的旗舰了，跟家...\n",
       "18282   水果                       与一切过程无关，这个程度只与发货出库有关，我也不想说什么\n",
       "9548    平板  买个**东西！真的只能看电视！玩王者荣耀 呵呵 开始不相信现在信了 不如苹果2688不如果苹...\n",
       "8426    平板  这是我买的第三个华为M2，老爸一个，外甥女一个，今天给儿子买的！内存不N小，又配了闪存卡，超...\n",
       "57712   酒店  1、酒店还算可以，设施有点旧，四星级勉强2、地处陈家坪，没有大型商场超市，背后有个美食街。送...\n",
       "48945  计算机  首先性价比不错,收到货屏幕没有坏点,送了散热底座温度控制能平均低12度左右 ,不运行大程序发...\n",
       "58320   酒店  预定的时候看见有大床房是没有窗户的，特意避开选择这种房型，选择了价格较高的舒适大床房，结果进...\n",
       "36139  洗发水                    洗发水都弄的满瓶都是，什么玩意。必须差评，还有就是发货发了几天\n",
       "35522  洗发水  我之前用过霸王生姜，一洗头皮就有点发热。后面霸王下架了，在信和超市买了这产品，用了同样的效果...\n",
       "41138   衣服  本来抱着试试的心态，没有想到物超所值！宝贝包装的也很好。客服态度很好！很贴心！物流也快，没两..."
      ]
     },
     "execution_count": 6,
     "metadata": {},
     "output_type": "execute_result"
    }
   ],
   "source": [
    "df = pd.read_csv('./data/online_shopping_10_cats.csv')\n",
    "df=df[['cat','review']]\n",
    "print(\"数据总量: %d .\" % len(df))\n",
    "df.sample(10)"
   ]
  },
  {
   "cell_type": "code",
   "execution_count": 7,
   "metadata": {
    "ExecuteTime": {
     "end_time": "2021-08-16T09:31:18.533294Z",
     "start_time": "2021-08-16T09:31:18.487801Z"
    }
   },
   "outputs": [
    {
     "name": "stdout",
     "output_type": "stream",
     "text": [
      "在 cat 列中总共有 0 个空值.\n",
      "在 review 列中总共有 1 个空值.\n"
     ]
    }
   ],
   "source": [
    "print(\"在 cat 列中总共有 %d 个空值.\" % df['cat'].isnull().sum())\n",
    "print(\"在 review 列中总共有 %d 个空值.\" % df['review'].isnull().sum())\n",
    "df[df.isnull().values==True]\n",
    "df = df[pd.notnull(df['review'])]\n"
   ]
  },
  {
   "cell_type": "code",
   "execution_count": 8,
   "metadata": {
    "ExecuteTime": {
     "end_time": "2021-08-16T09:31:18.797668Z",
     "start_time": "2021-08-16T09:31:18.728663Z"
    }
   },
   "outputs": [
    {
     "data": {
      "text/html": [
       "<div>\n",
       "<style scoped>\n",
       "    .dataframe tbody tr th:only-of-type {\n",
       "        vertical-align: middle;\n",
       "    }\n",
       "\n",
       "    .dataframe tbody tr th {\n",
       "        vertical-align: top;\n",
       "    }\n",
       "\n",
       "    .dataframe thead th {\n",
       "        text-align: right;\n",
       "    }\n",
       "</style>\n",
       "<table border=\"1\" class=\"dataframe\">\n",
       "  <thead>\n",
       "    <tr style=\"text-align: right;\">\n",
       "      <th></th>\n",
       "      <th>cat</th>\n",
       "      <th>count</th>\n",
       "    </tr>\n",
       "  </thead>\n",
       "  <tbody>\n",
       "    <tr>\n",
       "      <th>0</th>\n",
       "      <td>平板</td>\n",
       "      <td>10000</td>\n",
       "    </tr>\n",
       "    <tr>\n",
       "      <th>1</th>\n",
       "      <td>水果</td>\n",
       "      <td>10000</td>\n",
       "    </tr>\n",
       "    <tr>\n",
       "      <th>2</th>\n",
       "      <td>洗发水</td>\n",
       "      <td>10000</td>\n",
       "    </tr>\n",
       "    <tr>\n",
       "      <th>3</th>\n",
       "      <td>衣服</td>\n",
       "      <td>10000</td>\n",
       "    </tr>\n",
       "    <tr>\n",
       "      <th>4</th>\n",
       "      <td>酒店</td>\n",
       "      <td>10000</td>\n",
       "    </tr>\n",
       "    <tr>\n",
       "      <th>5</th>\n",
       "      <td>计算机</td>\n",
       "      <td>3992</td>\n",
       "    </tr>\n",
       "    <tr>\n",
       "      <th>6</th>\n",
       "      <td>书籍</td>\n",
       "      <td>3851</td>\n",
       "    </tr>\n",
       "    <tr>\n",
       "      <th>7</th>\n",
       "      <td>手机</td>\n",
       "      <td>2323</td>\n",
       "    </tr>\n",
       "    <tr>\n",
       "      <th>8</th>\n",
       "      <td>蒙牛</td>\n",
       "      <td>2033</td>\n",
       "    </tr>\n",
       "    <tr>\n",
       "      <th>9</th>\n",
       "      <td>热水器</td>\n",
       "      <td>574</td>\n",
       "    </tr>\n",
       "  </tbody>\n",
       "</table>\n",
       "</div>"
      ],
      "text/plain": [
       "   cat  count\n",
       "0   平板  10000\n",
       "1   水果  10000\n",
       "2  洗发水  10000\n",
       "3   衣服  10000\n",
       "4   酒店  10000\n",
       "5  计算机   3992\n",
       "6   书籍   3851\n",
       "7   手机   2323\n",
       "8   蒙牛   2033\n",
       "9  热水器    574"
      ]
     },
     "execution_count": 8,
     "metadata": {},
     "output_type": "execute_result"
    }
   ],
   "source": [
    "d = {'cat':df['cat'].value_counts().index, 'count': df['cat'].value_counts()}\n",
    "df_cat = pd.DataFrame(data=d).reset_index(drop=True)\n",
    "df_cat"
   ]
  },
  {
   "cell_type": "code",
   "execution_count": 9,
   "metadata": {
    "ExecuteTime": {
     "end_time": "2021-08-16T09:31:19.341953Z",
     "start_time": "2021-08-16T09:31:18.826010Z"
    }
   },
   "outputs": [
    {
     "data": {
      "text/plain": [
       "Text(0.5, 0, '类目')"
      ]
     },
     "execution_count": 9,
     "metadata": {},
     "output_type": "execute_result"
    },
    {
     "data": {
      "image/png": "[encoded data removed]",
      "text/plain": [
       "<Figure size 576x360 with 1 Axes>"
      ]
     },
     "metadata": {
      "needs_background": "light"
     },
     "output_type": "display_data"
    }
   ],
   "source": [
    "df_cat.plot(x='cat', y='count', kind='bar', legend=False,  figsize=(8, 5))\n",
    "plt.title(\"类目分布\")\n",
    "plt.ylabel('数量', fontsize=18)\n",
    "plt.xlabel('类目', fontsize=18)\n"
   ]
  },
  {
   "cell_type": "markdown",
   "metadata": {},
   "source": [
    "# 数据预处理\n",
    "\n",
    " 接下来我们要将cat类转换成id，这样便于以后的分类模型的训练。"
   ]
  },
  {
   "cell_type": "code",
   "execution_count": 10,
   "metadata": {
    "ExecuteTime": {
     "end_time": "2021-08-16T09:31:19.403446Z",
     "start_time": "2021-08-16T09:31:19.357583Z"
    }
   },
   "outputs": [
    {
     "data": {
      "text/html": [
       "<div>\n",
       "<style scoped>\n",
       "    .dataframe tbody tr th:only-of-type {\n",
       "        vertical-align: middle;\n",
       "    }\n",
       "\n",
       "    .dataframe tbody tr th {\n",
       "        vertical-align: top;\n",
       "    }\n",
       "\n",
       "    .dataframe thead th {\n",
       "        text-align: right;\n",
       "    }\n",
       "</style>\n",
       "<table border=\"1\" class=\"dataframe\">\n",
       "  <thead>\n",
       "    <tr style=\"text-align: right;\">\n",
       "      <th></th>\n",
       "      <th>cat</th>\n",
       "      <th>review</th>\n",
       "      <th>cat_id</th>\n",
       "    </tr>\n",
       "  </thead>\n",
       "  <tbody>\n",
       "    <tr>\n",
       "      <th>50734</th>\n",
       "      <td>计算机</td>\n",
       "      <td>还不错，比较实用，装系统千万别看网上傻比功略，纯粹是没事找事，什么用U盘虚拟光驱iso，都是...</td>\n",
       "      <td>8</td>\n",
       "    </tr>\n",
       "    <tr>\n",
       "      <th>26132</th>\n",
       "      <td>水果</td>\n",
       "      <td>没啥味道，特别小特别小，千万别买，特别不值</td>\n",
       "      <td>3</td>\n",
       "    </tr>\n",
       "    <tr>\n",
       "      <th>443</th>\n",
       "      <td>书籍</td>\n",
       "      <td>仔细回想这本文集，发现自己喜欢的只是写《教室朝南，没有风筝》的麻宁，不知道是她成长了还是自己...</td>\n",
       "      <td>0</td>\n",
       "    </tr>\n",
       "    <tr>\n",
       "      <th>48163</th>\n",
       "      <td>衣服</td>\n",
       "      <td>物流慢，掉色，掉色掉色，重要的事情说三遍</td>\n",
       "      <td>7</td>\n",
       "    </tr>\n",
       "    <tr>\n",
       "      <th>3760</th>\n",
       "      <td>书籍</td>\n",
       "      <td>本书其实没说什么，也看不出价值在哪，作者倒是牛，把西医批评的一无是处，感觉就是根本不懂科学</td>\n",
       "      <td>0</td>\n",
       "    </tr>\n",
       "    <tr>\n",
       "      <th>37503</th>\n",
       "      <td>蒙牛</td>\n",
       "      <td>当初蒙牛让中粮入股是明智之举，国有控股，伊利的骚扰就少了很多。当然，也由此带来了管理质量下降...</td>\n",
       "      <td>6</td>\n",
       "    </tr>\n",
       "    <tr>\n",
       "      <th>23904</th>\n",
       "      <td>水果</td>\n",
       "      <td>货物刚收到，封箱完整，只有11个，而且很小超小，说好的12个果怎么少了一个，而且说好的70-...</td>\n",
       "      <td>3</td>\n",
       "    </tr>\n",
       "    <tr>\n",
       "      <th>50711</th>\n",
       "      <td>计算机</td>\n",
       "      <td>华硕承诺无亮点。送的鼠标时罗技的。本子的散热也比想象的好很多</td>\n",
       "      <td>8</td>\n",
       "    </tr>\n",
       "    <tr>\n",
       "      <th>51941</th>\n",
       "      <td>计算机</td>\n",
       "      <td>无线网卡没有开关，每次开机后需要用键盘组合键开启无线网卡。即使没有开关也可以像dell家用机...</td>\n",
       "      <td>8</td>\n",
       "    </tr>\n",
       "    <tr>\n",
       "      <th>50751</th>\n",
       "      <td>计算机</td>\n",
       "      <td>烤漆面板相当漂亮！各项功能都很齐全，送人的，很满意呢！虽然还没有试用。</td>\n",
       "      <td>8</td>\n",
       "    </tr>\n",
       "  </tbody>\n",
       "</table>\n",
       "</div>"
      ],
      "text/plain": [
       "       cat                                             review  cat_id\n",
       "50734  计算机  还不错，比较实用，装系统千万别看网上傻比功略，纯粹是没事找事，什么用U盘虚拟光驱iso，都是...       8\n",
       "26132   水果                              没啥味道，特别小特别小，千万别买，特别不值       3\n",
       "443     书籍  仔细回想这本文集，发现自己喜欢的只是写《教室朝南，没有风筝》的麻宁，不知道是她成长了还是自己...       0\n",
       "48163   衣服                               物流慢，掉色，掉色掉色，重要的事情说三遍       7\n",
       "3760    书籍      本书其实没说什么，也看不出价值在哪，作者倒是牛，把西医批评的一无是处，感觉就是根本不懂科学       0\n",
       "37503   蒙牛  当初蒙牛让中粮入股是明智之举，国有控股，伊利的骚扰就少了很多。当然，也由此带来了管理质量下降...       6\n",
       "23904   水果  货物刚收到，封箱完整，只有11个，而且很小超小，说好的12个果怎么少了一个，而且说好的70-...       3\n",
       "50711  计算机                     华硕承诺无亮点。送的鼠标时罗技的。本子的散热也比想象的好很多       8\n",
       "51941  计算机  无线网卡没有开关，每次开机后需要用键盘组合键开启无线网卡。即使没有开关也可以像dell家用机...       8\n",
       "50751  计算机                烤漆面板相当漂亮！各项功能都很齐全，送人的，很满意呢！虽然还没有试用。       8"
      ]
     },
     "execution_count": 10,
     "metadata": {},
     "output_type": "execute_result"
    }
   ],
   "source": [
    "df['cat_id'] = df['cat'].factorize()[0]\n",
    "cat_id_df = df[['cat', 'cat_id']].drop_duplicates().sort_values('cat_id').reset_index(drop=True)\n",
    "cat_to_id = dict(cat_id_df.values)\n",
    "id_to_cat = dict(cat_id_df[['cat_id', 'cat']].values)\n",
    "df.sample(10)\n"
   ]
  },
  {
   "cell_type": "code",
   "execution_count": 11,
   "metadata": {
    "ExecuteTime": {
     "end_time": "2021-08-16T09:31:19.434759Z",
     "start_time": "2021-08-16T09:31:19.420129Z"
    }
   },
   "outputs": [
    {
     "data": {
      "text/html": [
       "<div>\n",
       "<style scoped>\n",
       "    .dataframe tbody tr th:only-of-type {\n",
       "        vertical-align: middle;\n",
       "    }\n",
       "\n",
       "    .dataframe tbody tr th {\n",
       "        vertical-align: top;\n",
       "    }\n",
       "\n",
       "    .dataframe thead th {\n",
       "        text-align: right;\n",
       "    }\n",
       "</style>\n",
       "<table border=\"1\" class=\"dataframe\">\n",
       "  <thead>\n",
       "    <tr style=\"text-align: right;\">\n",
       "      <th></th>\n",
       "      <th>cat</th>\n",
       "      <th>cat_id</th>\n",
       "    </tr>\n",
       "  </thead>\n",
       "  <tbody>\n",
       "    <tr>\n",
       "      <th>0</th>\n",
       "      <td>书籍</td>\n",
       "      <td>0</td>\n",
       "    </tr>\n",
       "    <tr>\n",
       "      <th>1</th>\n",
       "      <td>平板</td>\n",
       "      <td>1</td>\n",
       "    </tr>\n",
       "    <tr>\n",
       "      <th>2</th>\n",
       "      <td>手机</td>\n",
       "      <td>2</td>\n",
       "    </tr>\n",
       "    <tr>\n",
       "      <th>3</th>\n",
       "      <td>水果</td>\n",
       "      <td>3</td>\n",
       "    </tr>\n",
       "    <tr>\n",
       "      <th>4</th>\n",
       "      <td>洗发水</td>\n",
       "      <td>4</td>\n",
       "    </tr>\n",
       "    <tr>\n",
       "      <th>5</th>\n",
       "      <td>热水器</td>\n",
       "      <td>5</td>\n",
       "    </tr>\n",
       "    <tr>\n",
       "      <th>6</th>\n",
       "      <td>蒙牛</td>\n",
       "      <td>6</td>\n",
       "    </tr>\n",
       "    <tr>\n",
       "      <th>7</th>\n",
       "      <td>衣服</td>\n",
       "      <td>7</td>\n",
       "    </tr>\n",
       "    <tr>\n",
       "      <th>8</th>\n",
       "      <td>计算机</td>\n",
       "      <td>8</td>\n",
       "    </tr>\n",
       "    <tr>\n",
       "      <th>9</th>\n",
       "      <td>酒店</td>\n",
       "      <td>9</td>\n",
       "    </tr>\n",
       "  </tbody>\n",
       "</table>\n",
       "</div>"
      ],
      "text/plain": [
       "   cat  cat_id\n",
       "0   书籍       0\n",
       "1   平板       1\n",
       "2   手机       2\n",
       "3   水果       3\n",
       "4  洗发水       4\n",
       "5  热水器       5\n",
       "6   蒙牛       6\n",
       "7   衣服       7\n",
       "8  计算机       8\n",
       "9   酒店       9"
      ]
     },
     "execution_count": 11,
     "metadata": {},
     "output_type": "execute_result"
    }
   ],
   "source": [
    "cat_id_df"
   ]
  },
  {
   "cell_type": "markdown",
   "metadata": {},
   "source": [
    "我们将cat转换成了Id(0到9),由于我们的评价内容都是中文,所以要对中文进行一些预处理工作,这包括删除文本中的标点符号,特殊符号,还要删除一些无意义的常用词(stopword),因为这些词和符号对系统分析预测文本的内容没有任何帮助,反而会增加计算的复杂度和增加系统开销,所有在使用这些文本数据之前必须要将它们清理干净。"
   ]
  },
  {
   "cell_type": "code",
   "execution_count": 12,
   "metadata": {
    "ExecuteTime": {
     "end_time": "2021-08-16T09:31:19.750429Z",
     "start_time": "2021-08-16T09:31:19.736727Z"
    }
   },
   "outputs": [],
   "source": [
    "#定义删除除字母,数字，汉字以外的所有符号的函数\n",
    "def remove_punctuation(line):\n",
    "    line = str(line)\n",
    "    if line.strip()=='':\n",
    "        return ''\n",
    "    rule = re.compile(u\"[^a-zA-Z0-9\\u4E00-\\u9FA5]\")\n",
    "    line = rule.sub('',line)\n",
    "    return line\n",
    " \n",
    "def stopwordslist(filepath):  \n",
    "    stopwords = [line.strip() for line in open(filepath, 'r', encoding='utf-8').readlines()]  \n",
    "    return stopwords  \n",
    "\n",
    "#加载停用词\n",
    "stopwords = stopwordslist(\"./data/chineseStopWords.txt\")"
   ]
  },
  {
   "cell_type": "markdown",
   "metadata": {},
   "source": [
    "中文停用词包含了很多日常使用频率很高的常用词,如 吧，吗，呢，啥等一些感叹词等,这些高频常用词无法反应出文本的主要意思,所以要被过滤掉。"
   ]
  },
  {
   "cell_type": "code",
   "execution_count": 13,
   "metadata": {
    "ExecuteTime": {
     "end_time": "2021-08-16T09:31:21.107370Z",
     "start_time": "2021-08-16T09:31:20.678066Z"
    }
   },
   "outputs": [
    {
     "data": {
      "text/html": [
       "<div>\n",
       "<style scoped>\n",
       "    .dataframe tbody tr th:only-of-type {\n",
       "        vertical-align: middle;\n",
       "    }\n",
       "\n",
       "    .dataframe tbody tr th {\n",
       "        vertical-align: top;\n",
       "    }\n",
       "\n",
       "    .dataframe thead th {\n",
       "        text-align: right;\n",
       "    }\n",
       "</style>\n",
       "<table border=\"1\" class=\"dataframe\">\n",
       "  <thead>\n",
       "    <tr style=\"text-align: right;\">\n",
       "      <th></th>\n",
       "      <th>cat</th>\n",
       "      <th>review</th>\n",
       "      <th>cat_id</th>\n",
       "      <th>clean_review</th>\n",
       "    </tr>\n",
       "  </thead>\n",
       "  <tbody>\n",
       "    <tr>\n",
       "      <th>1851</th>\n",
       "      <td>书籍</td>\n",
       "      <td>本书读完了，我个人感觉宋初的文人都以范仲淹等知识分子为自己的楷模，苏轼也一样。宋朝文人都以忧...</td>\n",
       "      <td>0</td>\n",
       "      <td>本书读完了我个人感觉宋初的文人都以范仲淹等知识分子为自己的楷模苏轼也一样宋朝文人都以忧国忧民...</td>\n",
       "    </tr>\n",
       "    <tr>\n",
       "      <th>58373</th>\n",
       "      <td>酒店</td>\n",
       "      <td>卫生条件不是太好。房间要臭气味。空调发出滴滴的声音。</td>\n",
       "      <td>9</td>\n",
       "      <td>卫生条件不是太好房间要臭气味空调发出滴滴的声音</td>\n",
       "    </tr>\n",
       "    <tr>\n",
       "      <th>40381</th>\n",
       "      <td>衣服</td>\n",
       "      <td>裤子很舒适，和衣服搭配很适合！</td>\n",
       "      <td>7</td>\n",
       "      <td>裤子很舒适和衣服搭配很适合</td>\n",
       "    </tr>\n",
       "    <tr>\n",
       "      <th>6270</th>\n",
       "      <td>平板</td>\n",
       "      <td>平板电脑上手体验一下，还可以对得起这个价格，物有所值，外观造型独特轻薄，全金属机身设计风格，...</td>\n",
       "      <td>1</td>\n",
       "      <td>平板电脑上手体验一下还可以对得起这个价格物有所值外观造型独特轻薄全金属机身设计风格反应迅速灵...</td>\n",
       "    </tr>\n",
       "    <tr>\n",
       "      <th>35084</th>\n",
       "      <td>洗发水</td>\n",
       "      <td>说的赠品呢，什么没有，，我选了半天真无语</td>\n",
       "      <td>4</td>\n",
       "      <td>说的赠品呢什么没有我选了半天真无语</td>\n",
       "    </tr>\n",
       "    <tr>\n",
       "      <th>19151</th>\n",
       "      <td>水果</td>\n",
       "      <td>苹果好小 希望味道haikeyi</td>\n",
       "      <td>3</td>\n",
       "      <td>苹果好小希望味道haikeyi</td>\n",
       "    </tr>\n",
       "    <tr>\n",
       "      <th>10245</th>\n",
       "      <td>平板</td>\n",
       "      <td>无语刚买不到一天降价50元</td>\n",
       "      <td>1</td>\n",
       "      <td>无语刚买不到一天降价50元</td>\n",
       "    </tr>\n",
       "    <tr>\n",
       "      <th>34245</th>\n",
       "      <td>洗发水</td>\n",
       "      <td>快递很差劲、到了也不打电话、两个包裹一个今天才找到</td>\n",
       "      <td>4</td>\n",
       "      <td>快递很差劲到了也不打电话两个包裹一个今天才找到</td>\n",
       "    </tr>\n",
       "    <tr>\n",
       "      <th>19799</th>\n",
       "      <td>水果</td>\n",
       "      <td>又脆又甜，个头大，大小均匀，好吃到爆了。一到就吃了3个，知道有多好吃了吧！</td>\n",
       "      <td>3</td>\n",
       "      <td>又脆又甜个头大大小均匀好吃到爆了一到就吃了3个知道有多好吃了吧</td>\n",
       "    </tr>\n",
       "    <tr>\n",
       "      <th>16550</th>\n",
       "      <td>水果</td>\n",
       "      <td>苹果大小均匀，新鲜无一个坏的(12个)，包装很到位，发货快，物流快，快递送货及时。价格合理。好评。</td>\n",
       "      <td>3</td>\n",
       "      <td>苹果大小均匀新鲜无一个坏的12个包装很到位发货快物流快快递送货及时价格合理好评</td>\n",
       "    </tr>\n",
       "  </tbody>\n",
       "</table>\n",
       "</div>"
      ],
      "text/plain": [
       "       cat                                             review  cat_id  \\\n",
       "1851    书籍  本书读完了，我个人感觉宋初的文人都以范仲淹等知识分子为自己的楷模，苏轼也一样。宋朝文人都以忧...       0   \n",
       "58373   酒店                         卫生条件不是太好。房间要臭气味。空调发出滴滴的声音。       9   \n",
       "40381   衣服                                    裤子很舒适，和衣服搭配很适合！       7   \n",
       "6270    平板  平板电脑上手体验一下，还可以对得起这个价格，物有所值，外观造型独特轻薄，全金属机身设计风格，...       1   \n",
       "35084  洗发水                               说的赠品呢，什么没有，，我选了半天真无语       4   \n",
       "19151   水果                                   苹果好小 希望味道haikeyi       3   \n",
       "10245   平板                                      无语刚买不到一天降价50元       1   \n",
       "34245  洗发水                          快递很差劲、到了也不打电话、两个包裹一个今天才找到       4   \n",
       "19799   水果              又脆又甜，个头大，大小均匀，好吃到爆了。一到就吃了3个，知道有多好吃了吧！       3   \n",
       "16550   水果  苹果大小均匀，新鲜无一个坏的(12个)，包装很到位，发货快，物流快，快递送货及时。价格合理。好评。       3   \n",
       "\n",
       "                                            clean_review  \n",
       "1851   本书读完了我个人感觉宋初的文人都以范仲淹等知识分子为自己的楷模苏轼也一样宋朝文人都以忧国忧民...  \n",
       "58373                            卫生条件不是太好房间要臭气味空调发出滴滴的声音  \n",
       "40381                                      裤子很舒适和衣服搭配很适合  \n",
       "6270   平板电脑上手体验一下还可以对得起这个价格物有所值外观造型独特轻薄全金属机身设计风格反应迅速灵...  \n",
       "35084                                  说的赠品呢什么没有我选了半天真无语  \n",
       "19151                                    苹果好小希望味道haikeyi  \n",
       "10245                                      无语刚买不到一天降价50元  \n",
       "34245                            快递很差劲到了也不打电话两个包裹一个今天才找到  \n",
       "19799                    又脆又甜个头大大小均匀好吃到爆了一到就吃了3个知道有多好吃了吧  \n",
       "16550            苹果大小均匀新鲜无一个坏的12个包装很到位发货快物流快快递送货及时价格合理好评  "
      ]
     },
     "execution_count": 13,
     "metadata": {},
     "output_type": "execute_result"
    }
   ],
   "source": [
    "#删除除字母,数字，汉字以外的所有符号\n",
    "df['clean_review'] = df['review'].apply(remove_punctuation)\n",
    "df.sample(10)"
   ]
  },
  {
   "cell_type": "markdown",
   "metadata": {},
   "source": [
    "我们过滤掉了review中的标点符号和一些特殊符号，并生成了一个新的字段 clean_review。接下来我们要在clean_review的基础上进行分词,把每个评论内容分成由空格隔开的一个一个单独的词语。"
   ]
  },
  {
   "cell_type": "code",
   "execution_count": 14,
   "metadata": {
    "ExecuteTime": {
     "end_time": "2021-08-16T09:32:27.148990Z",
     "start_time": "2021-08-16T09:31:22.928363Z"
    }
   },
   "outputs": [
    {
     "name": "stderr",
     "output_type": "stream",
     "text": [
      "Building prefix dict from the default dictionary ...\n",
      "Loading model from cache /var/folders/xp/xrb2_xtx55g6g2wxnjw01wgr0000gn/T/jieba.cache\n",
      "Loading model cost 0.967 seconds.\n",
      "Prefix dict has been built successfully.\n"
     ]
    },
    {
     "data": {
      "text/html": [
       "<div>\n",
       "<style scoped>\n",
       "    .dataframe tbody tr th:only-of-type {\n",
       "        vertical-align: middle;\n",
       "    }\n",
       "\n",
       "    .dataframe tbody tr th {\n",
       "        vertical-align: top;\n",
       "    }\n",
       "\n",
       "    .dataframe thead th {\n",
       "        text-align: right;\n",
       "    }\n",
       "</style>\n",
       "<table border=\"1\" class=\"dataframe\">\n",
       "  <thead>\n",
       "    <tr style=\"text-align: right;\">\n",
       "      <th></th>\n",
       "      <th>cat</th>\n",
       "      <th>review</th>\n",
       "      <th>cat_id</th>\n",
       "      <th>clean_review</th>\n",
       "      <th>cut_review</th>\n",
       "    </tr>\n",
       "  </thead>\n",
       "  <tbody>\n",
       "    <tr>\n",
       "      <th>0</th>\n",
       "      <td>书籍</td>\n",
       "      <td>﻿做父母一定要有刘墉这样的心态，不断地学习，不断地进步，不断地给自己补充新鲜血液，让自己保持...</td>\n",
       "      <td>0</td>\n",
       "      <td>做父母一定要有刘墉这样的心态不断地学习不断地进步不断地给自己补充新鲜血液让自己保持一颗年轻的...</td>\n",
       "      <td>做 父母 一定 刘墉 心态 不断 学习 不断 进步 不断 补充 新鲜血液 保持 一颗 年轻 ...</td>\n",
       "    </tr>\n",
       "    <tr>\n",
       "      <th>1</th>\n",
       "      <td>书籍</td>\n",
       "      <td>作者真有英国人严谨的风格，提出观点、进行论述论证，尽管本人对物理学了解不深，但是仍然能感受到...</td>\n",
       "      <td>0</td>\n",
       "      <td>作者真有英国人严谨的风格提出观点进行论述论证尽管本人对物理学了解不深但是仍然能感受到真理的火...</td>\n",
       "      <td>作者 真有 英国人 严谨 风格 提出 观点 进行 论述 论证 物理学 了解 不深 仍然 感受...</td>\n",
       "    </tr>\n",
       "    <tr>\n",
       "      <th>2</th>\n",
       "      <td>书籍</td>\n",
       "      <td>作者长篇大论借用详细报告数据处理工作和计算结果支持其新观点。为什么荷兰曾经县有欧洲最高的生产...</td>\n",
       "      <td>0</td>\n",
       "      <td>作者长篇大论借用详细报告数据处理工作和计算结果支持其新观点为什么荷兰曾经县有欧洲最高的生产率...</td>\n",
       "      <td>作者 长篇大论 借用 详细 报告 数据处理 工作 计算结果 支持 其新 观点 荷兰 曾经 县...</td>\n",
       "    </tr>\n",
       "    <tr>\n",
       "      <th>3</th>\n",
       "      <td>书籍</td>\n",
       "      <td>作者在战几时之前用了＂拥抱＂令人叫绝．日本如果没有战败，就有会有美军的占领，没胡官僚主义的延...</td>\n",
       "      <td>0</td>\n",
       "      <td>作者在战几时之前用了拥抱令人叫绝日本如果没有战败就有会有美军的占领没胡官僚主义的延续没有战后...</td>\n",
       "      <td>作者 战 之前 拥抱 令人 叫绝 日本 没有 战败 会 美军 占领 没胡 官僚主义 延续 没...</td>\n",
       "    </tr>\n",
       "    <tr>\n",
       "      <th>4</th>\n",
       "      <td>书籍</td>\n",
       "      <td>作者在少年时即喜阅读，能看出他精读了无数经典，因而他有一个庞大的内心世界。他的作品最难能可贵...</td>\n",
       "      <td>0</td>\n",
       "      <td>作者在少年时即喜阅读能看出他精读了无数经典因而他有一个庞大的内心世界他的作品最难能可贵的有两...</td>\n",
       "      <td>作者 少年 时即 喜 阅读 看出 精读 无数 经典 一个 庞大 内心世界 作品 难能可贵 两...</td>\n",
       "    </tr>\n",
       "  </tbody>\n",
       "</table>\n",
       "</div>"
      ],
      "text/plain": [
       "  cat                                             review  cat_id  \\\n",
       "0  书籍  ﻿做父母一定要有刘墉这样的心态，不断地学习，不断地进步，不断地给自己补充新鲜血液，让自己保持...       0   \n",
       "1  书籍  作者真有英国人严谨的风格，提出观点、进行论述论证，尽管本人对物理学了解不深，但是仍然能感受到...       0   \n",
       "2  书籍  作者长篇大论借用详细报告数据处理工作和计算结果支持其新观点。为什么荷兰曾经县有欧洲最高的生产...       0   \n",
       "3  书籍  作者在战几时之前用了＂拥抱＂令人叫绝．日本如果没有战败，就有会有美军的占领，没胡官僚主义的延...       0   \n",
       "4  书籍  作者在少年时即喜阅读，能看出他精读了无数经典，因而他有一个庞大的内心世界。他的作品最难能可贵...       0   \n",
       "\n",
       "                                        clean_review  \\\n",
       "0  做父母一定要有刘墉这样的心态不断地学习不断地进步不断地给自己补充新鲜血液让自己保持一颗年轻的...   \n",
       "1  作者真有英国人严谨的风格提出观点进行论述论证尽管本人对物理学了解不深但是仍然能感受到真理的火...   \n",
       "2  作者长篇大论借用详细报告数据处理工作和计算结果支持其新观点为什么荷兰曾经县有欧洲最高的生产率...   \n",
       "3  作者在战几时之前用了拥抱令人叫绝日本如果没有战败就有会有美军的占领没胡官僚主义的延续没有战后...   \n",
       "4  作者在少年时即喜阅读能看出他精读了无数经典因而他有一个庞大的内心世界他的作品最难能可贵的有两...   \n",
       "\n",
       "                                          cut_review  \n",
       "0  做 父母 一定 刘墉 心态 不断 学习 不断 进步 不断 补充 新鲜血液 保持 一颗 年轻 ...  \n",
       "1  作者 真有 英国人 严谨 风格 提出 观点 进行 论述 论证 物理学 了解 不深 仍然 感受...  \n",
       "2  作者 长篇大论 借用 详细 报告 数据处理 工作 计算结果 支持 其新 观点 荷兰 曾经 县...  \n",
       "3  作者 战 之前 拥抱 令人 叫绝 日本 没有 战败 会 美军 占领 没胡 官僚主义 延续 没...  \n",
       "4  作者 少年 时即 喜 阅读 看出 精读 无数 经典 一个 庞大 内心世界 作品 难能可贵 两...  "
      ]
     },
     "execution_count": 14,
     "metadata": {},
     "output_type": "execute_result"
    }
   ],
   "source": [
    "#分词，并过滤停用词\n",
    "df['cut_review'] = df['clean_review'].apply(lambda x: \" \".join([w for w in list(jb.cut(x)) if w not in stopwords]))\n",
    "df.head()"
   ]
  },
  {
   "cell_type": "markdown",
   "metadata": {},
   "source": [
    "# LSTM建模 \n",
    "\n",
    "数据预处理完成以后，接下来我们要开始进行LSTM的建模工作：\n",
    "\n",
    "* 我们要将cut_review数据进行向量化处理,我们要将每条cut_review转换成一个整数序列的向量\n",
    "* 设置最频繁使用的50000个词\n",
    "* 设置每条 cut_review最大的词语数为250个(超过的将会被截去,不足的将会被补0)"
   ]
  },
  {
   "cell_type": "code",
   "execution_count": 15,
   "metadata": {
    "ExecuteTime": {
     "end_time": "2021-08-16T09:32:30.224498Z",
     "start_time": "2021-08-16T09:32:27.159073Z"
    }
   },
   "outputs": [
    {
     "name": "stdout",
     "output_type": "stream",
     "text": [
      "共有 70364 个不相同的词语.\n"
     ]
    }
   ],
   "source": [
    "# 设置最频繁使用的50000个词(在texts_to_matrix是会取前MAX_NB_WORDS,会取前MAX_NB_WORDS列)\n",
    "MAX_NB_WORDS = 50000\n",
    "# 每条cut_review最大的长度\n",
    "MAX_SEQUENCE_LENGTH = 250\n",
    "# 设置Embeddingceng层的维度\n",
    "EMBEDDING_DIM = 100\n",
    "\n",
    "tokenizer = Tokenizer(num_words=MAX_NB_WORDS, filters='!\"#$%&()*+,-./:;<=>?@[\\]^_`{|}~', lower=True)\n",
    "tokenizer.fit_on_texts(df['cut_review'].values)\n",
    "word_index = tokenizer.word_index\n",
    "print('共有 %s 个不相同的词语.' % len(word_index))"
   ]
  },
  {
   "cell_type": "markdown",
   "metadata": {},
   "source": [
    "训练和测试的数据集都准备好以后,接下来我们要定义一个LSTM的序列模型:  \n",
    "\n",
    "* 模型的第一次是嵌入层(Embedding)，它使用长度为100的向量来表示每一个词语\n",
    "* SpatialDropout1D层在训练中每次更新时， 将输入单元的按比率随机设置为 0， 这有助于防止过拟合\n",
    "* LSTM层包含100个记忆单元\n",
    "* 输出层为包含10个分类的全连接层\n",
    "* 由于是多分类，所以激活函数设置为'softmax'\n",
    "* 由于是多分类, 所以损失函数为分类交叉熵categorical_crossentropy"
   ]
  },
  {
   "cell_type": "code",
   "execution_count": 16,
   "metadata": {
    "ExecuteTime": {
     "end_time": "2021-08-16T09:32:33.259345Z",
     "start_time": "2021-08-16T09:32:30.227807Z"
    }
   },
   "outputs": [
    {
     "name": "stdout",
     "output_type": "stream",
     "text": [
      "(62773, 250)\n",
      "(62773, 10)\n"
     ]
    }
   ],
   "source": [
    "X = tokenizer.texts_to_sequences(df['cut_review'].values)\n",
    "#填充X,让X的各个列的长度统一\n",
    "X = pad_sequences(X, maxlen=MAX_SEQUENCE_LENGTH)\n",
    "\n",
    "#多类标签的onehot展开\n",
    "Y = pd.get_dummies(df['cat_id']).values\n",
    "\n",
    "print(X.shape)\n",
    "print(Y.shape)\n"
   ]
  },
  {
   "cell_type": "code",
   "execution_count": 17,
   "metadata": {
    "ExecuteTime": {
     "end_time": "2021-08-16T09:32:33.443559Z",
     "start_time": "2021-08-16T09:32:33.274013Z"
    }
   },
   "outputs": [
    {
     "name": "stdout",
     "output_type": "stream",
     "text": [
      "(56495, 250) (56495, 10)\n",
      "(6278, 250) (6278, 10)\n"
     ]
    }
   ],
   "source": [
    "#拆分训练集和测试集\n",
    "X_train, X_test, Y_train, Y_test = train_test_split(X,Y, test_size = 0.10, random_state = 42)\n",
    "print(X_train.shape,Y_train.shape)\n",
    "print(X_test.shape,Y_test.shape)"
   ]
  },
  {
   "cell_type": "code",
   "execution_count": 19,
   "metadata": {
    "ExecuteTime": {
     "end_time": "2021-08-16T09:33:30.461679Z",
     "start_time": "2021-08-16T09:33:29.991144Z"
    }
   },
   "outputs": [
    {
     "name": "stdout",
     "output_type": "stream",
     "text": [
      "Model: \"sequential_1\"\n",
      "_________________________________________________________________\n",
      "Layer (type)                 Output Shape              Param #   \n",
      "=================================================================\n",
      "embedding_1 (Embedding)      (None, 250, 100)          5000000   \n",
      "_________________________________________________________________\n",
      "spatial_dropout1d_1 (Spatial (None, 250, 100)          0         \n",
      "_________________________________________________________________\n",
      "lstm_1 (LSTM)                (None, 100)               80400     \n",
      "_________________________________________________________________\n",
      "dense_1 (Dense)              (None, 10)                1010      \n",
      "=================================================================\n",
      "Total params: 5,081,410\n",
      "Trainable params: 5,081,410\n",
      "Non-trainable params: 0\n",
      "_________________________________________________________________\n",
      "None\n"
     ]
    }
   ],
   "source": [
    "#定义模型\n",
    "model = Sequential()\n",
    "model.add(Embedding(MAX_NB_WORDS, EMBEDDING_DIM, input_length=X.shape[1]))\n",
    "model.add(SpatialDropout1D(0.2))\n",
    "model.add(LSTM(100, dropout=0.2, recurrent_dropout=0.2))\n",
    "model.add(Dense(10, activation='softmax'))\n",
    "model.compile(loss='categorical_crossentropy', optimizer='adam', metrics=['accuracy'])\n",
    "print(model.summary())"
   ]
  },
  {
   "cell_type": "code",
   "execution_count": 20,
   "metadata": {
    "ExecuteTime": {
     "end_time": "2021-08-16T10:22:38.910741Z",
     "start_time": "2021-08-16T09:33:32.333452Z"
    }
   },
   "outputs": [
    {
     "name": "stderr",
     "output_type": "stream",
     "text": [
      "2021-08-16 17:33:32.437900: I tensorflow/compiler/mlir/mlir_graph_optimization_pass.cc:185] None of the MLIR Optimization Passes are enabled (registered 2)\n"
     ]
    },
    {
     "name": "stdout",
     "output_type": "stream",
     "text": [
      "Epoch 1/5\n",
      "795/795 [==============================] - 510s 636ms/step - loss: 0.7325 - accuracy: 0.7531 - val_loss: 0.3604 - val_accuracy: 0.8811\n",
      "Epoch 2/5\n",
      "795/795 [==============================] - 756s 951ms/step - loss: 0.2863 - accuracy: 0.9045 - val_loss: 0.3199 - val_accuracy: 0.8940\n",
      "Epoch 3/5\n",
      "795/795 [==============================] - 723s 909ms/step - loss: 0.2031 - accuracy: 0.9319 - val_loss: 0.3347 - val_accuracy: 0.8904\n",
      "Epoch 4/5\n",
      "795/795 [==============================] - 474s 596ms/step - loss: 0.1623 - accuracy: 0.9449 - val_loss: 0.3589 - val_accuracy: 0.8885\n",
      "Epoch 5/5\n",
      "795/795 [==============================] - 485s 610ms/step - loss: 0.1379 - accuracy: 0.9528 - val_loss: 0.3724 - val_accuracy: 0.8858\n"
     ]
    }
   ],
   "source": [
    "epochs = 5\n",
    "batch_size = 64\n",
    "\n",
    "history = model.fit(X_train, Y_train, epochs=epochs, batch_size=batch_size,validation_split=0.1,\n",
    "                    callbacks=[EarlyStopping(monitor='val_loss', patience=3, min_delta=0.0001)])"
   ]
  },
  {
   "cell_type": "code",
   "execution_count": 21,
   "metadata": {
    "ExecuteTime": {
     "end_time": "2021-08-16T10:22:49.186966Z",
     "start_time": "2021-08-16T10:22:38.919669Z"
    }
   },
   "outputs": [
    {
     "name": "stdout",
     "output_type": "stream",
     "text": [
      "197/197 [==============================] - 10s 51ms/step - loss: 0.3742 - accuracy: 0.8874\n",
      "Test set\n",
      "  Loss: 0.374\n",
      "  Accuracy: 0.887\n"
     ]
    }
   ],
   "source": [
    "accr = model.evaluate(X_test,Y_test)\n",
    "print('Test set\\n  Loss: {:0.3f}\\n  Accuracy: {:0.3f}'.format(accr[0],accr[1]))"
   ]
  },
  {
   "cell_type": "code",
   "execution_count": 22,
   "metadata": {
    "ExecuteTime": {
     "end_time": "2021-08-16T10:22:49.488620Z",
     "start_time": "2021-08-16T10:22:49.192190Z"
    }
   },
   "outputs": [
    {
     "data": {
      "image/png": "[encoded data removed]",
      "text/plain": [
       "<Figure size 432x288 with 1 Axes>"
      ]
     },
     "metadata": {
      "needs_background": "light"
     },
     "output_type": "display_data"
    }
   ],
   "source": [
    "plt.title('Loss')\n",
    "plt.plot(history.history['loss'], label='train')\n",
    "plt.plot(history.history['val_loss'], label='test')\n",
    "plt.legend()\n",
    "plt.show();"
   ]
  },
  {
   "cell_type": "code",
   "execution_count": 26,
   "metadata": {
    "ExecuteTime": {
     "end_time": "2021-08-16T11:18:31.660265Z",
     "start_time": "2021-08-16T11:18:31.073177Z"
    }
   },
   "outputs": [
    {
     "data": {
      "image/png": "[encoded data removed]",
      "text/plain": [
       "<Figure size 432x288 with 1 Axes>"
      ]
     },
     "metadata": {
      "needs_background": "light"
     },
     "output_type": "display_data"
    }
   ],
   "source": [
    "plt.title('Accuracy')\n",
    "plt.plot(history.history['accuracy'], label='train')\n",
    "plt.plot(history.history['val_accuracy'], label='test')\n",
    "plt.legend()\n",
    "plt.show();"
   ]
  },
  {
   "cell_type": "markdown",
   "metadata": {},
   "source": [
    "# LSTM模型的评估 \n",
    "\n",
    "接下来我们通过画混淆矩阵和求F1分数来评估我们模型的表现"
   ]
  },
  {
   "cell_type": "code",
   "execution_count": 27,
   "metadata": {
    "ExecuteTime": {
     "end_time": "2021-08-16T11:18:57.268807Z",
     "start_time": "2021-08-16T11:18:37.596513Z"
    }
   },
   "outputs": [],
   "source": [
    "y_pred = model.predict(X_test)\n",
    "y_pred = y_pred.argmax(axis = 1)\n",
    "Y_test = Y_test.argmax(axis = 1)"
   ]
  },
  {
   "cell_type": "code",
   "execution_count": 29,
   "metadata": {
    "ExecuteTime": {
     "end_time": "2021-08-16T11:19:35.848496Z",
     "start_time": "2021-08-16T11:19:33.170889Z"
    }
   },
   "outputs": [
    {
     "data": {
      "text/plain": [
       "Text(0.5, 51.21875, '预测结果')"
      ]
     },
     "execution_count": 29,
     "metadata": {},
     "output_type": "execute_result"
    },
    {
     "data": {
      "image/png": "[encoded data removed]",
      "text/plain": [
       "<Figure size 720x576 with 2 Axes>"
      ]
     },
     "metadata": {
      "needs_background": "light"
     },
     "output_type": "display_data"
    }
   ],
   "source": [
    "import seaborn as sns\n",
    "from sklearn.metrics import accuracy_score, confusion_matrix\n",
    "#生成混淆矩阵\n",
    "conf_mat = confusion_matrix(Y_test, y_pred)\n",
    "fig, ax = plt.subplots(figsize=(10,8))\n",
    "sns.heatmap(conf_mat, annot=True, fmt='d',\n",
    "            xticklabels=cat_id_df.cat.values, yticklabels=cat_id_df.cat.values)\n",
    "plt.ylabel('实际结果',fontsize=18)\n",
    "plt.xlabel('预测结果',fontsize=18)\n",
    "\n"
   ]
  },
  {
   "cell_type": "code",
   "execution_count": 30,
   "metadata": {
    "ExecuteTime": {
     "end_time": "2021-08-16T11:19:36.072111Z",
     "start_time": "2021-08-16T11:19:35.901620Z"
    }
   },
   "outputs": [
    {
     "name": "stdout",
     "output_type": "stream",
     "text": [
      "accuracy 0.8873845173622172\n",
      "              precision    recall  f1-score   support\n",
      "\n",
      "          书籍       0.96      0.94      0.95       373\n",
      "          平板       0.81      0.78      0.80       998\n",
      "          手机       0.86      0.82      0.84       250\n",
      "          水果       0.94      0.89      0.91       965\n",
      "         洗发水       0.81      0.85      0.83      1006\n",
      "         热水器       0.79      0.50      0.61        54\n",
      "          蒙牛       1.00      1.00      1.00       204\n",
      "          衣服       0.84      0.92      0.88       992\n",
      "         计算机       0.93      0.91      0.92       400\n",
      "          酒店       0.99      0.97      0.98      1036\n",
      "\n",
      "    accuracy                           0.89      6278\n",
      "   macro avg       0.89      0.86      0.87      6278\n",
      "weighted avg       0.89      0.89      0.89      6278\n",
      "\n"
     ]
    }
   ],
   "source": [
    "from  sklearn.metrics import classification_report\n",
    " \n",
    "print('accuracy %s' % accuracy_score(y_pred, Y_test))\n",
    "print(classification_report(Y_test, y_pred,target_names=cat_id_df['cat'].values))\n"
   ]
  },
  {
   "cell_type": "markdown",
   "metadata": {},
   "source": [
    "# 自定义预测\n",
    "\n",
    "首先我们定义一个预测函数:通过输入一段评语,来预测它的类目"
   ]
  },
  {
   "cell_type": "code",
   "execution_count": 31,
   "metadata": {
    "ExecuteTime": {
     "end_time": "2021-08-16T11:19:36.099414Z",
     "start_time": "2021-08-16T11:19:36.082739Z"
    }
   },
   "outputs": [],
   "source": [
    "def predict(text):\n",
    "    txt = remove_punctuation(text)\n",
    "    txt = [\" \".join([w for w in list(jb.cut(txt)) if w not in stopwords])]\n",
    "    seq = tokenizer.texts_to_sequences(txt)\n",
    "    padded = pad_sequences(seq, maxlen=MAX_SEQUENCE_LENGTH)\n",
    "    pred = model.predict(padded)\n",
    "    cat_id= pred.argmax(axis=1)[0]\n",
    "    return cat_id_df[cat_id_df.cat_id==cat_id]['cat'].values[0]\n",
    "      "
   ]
  },
  {
   "cell_type": "code",
   "execution_count": 32,
   "metadata": {
    "ExecuteTime": {
     "end_time": "2021-08-16T11:19:36.342521Z",
     "start_time": "2021-08-16T11:19:36.113507Z"
    }
   },
   "outputs": [
    {
     "data": {
      "text/plain": [
       "'水果'"
      ]
     },
     "execution_count": 32,
     "metadata": {},
     "output_type": "execute_result"
    }
   ],
   "source": [
    "predict('苹果好吃又不贵，已经买了很多次了')"
   ]
  },
  {
   "cell_type": "code",
   "execution_count": 33,
   "metadata": {
    "ExecuteTime": {
     "end_time": "2021-08-16T11:19:36.689639Z",
     "start_time": "2021-08-16T11:19:36.349103Z"
    }
   },
   "outputs": [
    {
     "data": {
      "text/plain": [
       "'平板'"
      ]
     },
     "execution_count": 33,
     "metadata": {},
     "output_type": "execute_result"
    }
   ],
   "source": [
    "predict('收到产品已经半个多月了，一开始用着不太好用，慢慢的就好使了，可能是习惯问题吧，主要是屏的分辨率真的不错。')"
   ]
  },
  {
   "cell_type": "code",
   "execution_count": 34,
   "metadata": {
    "ExecuteTime": {
     "end_time": "2021-08-16T11:19:37.044654Z",
     "start_time": "2021-08-16T11:19:36.706245Z"
    }
   },
   "outputs": [
    {
     "data": {
      "text/plain": [
       "'书籍'"
      ]
     },
     "execution_count": 34,
     "metadata": {},
     "output_type": "execute_result"
    }
   ],
   "source": [
    "predict('可能中外文化理解差异，可能与小孩子太有代沟，不觉得怎么样，还是比较喜欢水墨画一点风格的漫画书，但愿我女儿长大一点能喜欢（22个月中）')"
   ]
  },
  {
   "cell_type": "code",
   "execution_count": 35,
   "metadata": {
    "ExecuteTime": {
     "end_time": "2021-08-16T11:19:40.388207Z",
     "start_time": "2021-08-16T11:19:40.253336Z"
    }
   },
   "outputs": [
    {
     "data": {
      "text/plain": [
       "'洗发水'"
      ]
     },
     "execution_count": 35,
     "metadata": {},
     "output_type": "execute_result"
    }
   ],
   "source": [
    "predict('假的，不好用，头皮痒的要命。。。')"
   ]
  },
  {
   "cell_type": "code",
   "execution_count": 36,
   "metadata": {
    "ExecuteTime": {
     "end_time": "2021-08-16T11:19:41.402806Z",
     "start_time": "2021-08-16T11:19:41.212352Z"
    }
   },
   "outputs": [
    {
     "data": {
      "text/plain": [
       "'酒店'"
      ]
     },
     "execution_count": 36,
     "metadata": {},
     "output_type": "execute_result"
    }
   ],
   "source": [
    "predict('这是第三次点评，纯粹是为了拿积分。没什么可以多说了，服务不错。')"
   ]
  },
  {
   "cell_type": "code",
   "execution_count": 37,
   "metadata": {
    "ExecuteTime": {
     "end_time": "2021-08-16T11:19:41.842482Z",
     "start_time": "2021-08-16T11:19:41.715326Z"
    }
   },
   "outputs": [
    {
     "data": {
      "text/plain": [
       "'酒店'"
      ]
     },
     "execution_count": 37,
     "metadata": {},
     "output_type": "execute_result"
    }
   ],
   "source": [
    "#自定义review\n",
    "predict('房间挺大，就是价格贵了点')"
   ]
  },
  {
   "cell_type": "code",
   "execution_count": 38,
   "metadata": {
    "ExecuteTime": {
     "end_time": "2021-08-16T11:19:42.090248Z",
     "start_time": "2021-08-16T11:19:41.947467Z"
    }
   },
   "outputs": [
    {
     "data": {
      "text/plain": [
       "'水果'"
      ]
     },
     "execution_count": 38,
     "metadata": {},
     "output_type": "execute_result"
    }
   ],
   "source": [
    "#自定义review\n",
    "predict('酸的要死，下次不买了')"
   ]
  },
  {
   "cell_type": "code",
   "execution_count": 39,
   "metadata": {
    "ExecuteTime": {
     "end_time": "2021-08-16T11:19:42.665556Z",
     "start_time": "2021-08-16T11:19:42.524683Z"
    }
   },
   "outputs": [
    {
     "data": {
      "text/plain": [
       "'水果'"
      ]
     },
     "execution_count": 39,
     "metadata": {},
     "output_type": "execute_result"
    }
   ],
   "source": [
    "#自定义review\n",
    "predict('酸的要死，下次不买了')"
   ]
  },
  {
   "cell_type": "code",
   "execution_count": 40,
   "metadata": {
    "ExecuteTime": {
     "end_time": "2021-08-16T11:19:42.930388Z",
     "start_time": "2021-08-16T11:19:42.716301Z"
    }
   },
   "outputs": [
    {
     "data": {
      "text/plain": [
       "'衣服'"
      ]
     },
     "execution_count": 40,
     "metadata": {},
     "output_type": "execute_result"
    }
   ],
   "source": [
    "#自定义review\n",
    "predict('用了几天就好卡，上当了，退款')"
   ]
  },
  {
   "cell_type": "code",
   "execution_count": 41,
   "metadata": {
    "ExecuteTime": {
     "end_time": "2021-08-16T11:19:43.656177Z",
     "start_time": "2021-08-16T11:19:43.470137Z"
    }
   },
   "outputs": [
    {
     "data": {
      "text/plain": [
       "'洗发水'"
      ]
     },
     "execution_count": 41,
     "metadata": {},
     "output_type": "execute_result"
    }
   ],
   "source": [
    "#自定义review\n",
    "predict('用了几次发现头好痒，感觉过敏了')"
   ]
  },
  {
   "cell_type": "code",
   "execution_count": 42,
   "metadata": {
    "ExecuteTime": {
     "end_time": "2021-08-16T11:19:44.583224Z",
     "start_time": "2021-08-16T11:19:44.460036Z"
    }
   },
   "outputs": [
    {
     "data": {
      "text/plain": [
       "'手机'"
      ]
     },
     "execution_count": 42,
     "metadata": {},
     "output_type": "execute_result"
    }
   ],
   "source": [
    "predict('手写识别还可以')"
   ]
  },
  {
   "cell_type": "code",
   "execution_count": 43,
   "metadata": {
    "ExecuteTime": {
     "end_time": "2021-08-16T11:19:45.055369Z",
     "start_time": "2021-08-16T11:19:44.895591Z"
    }
   },
   "outputs": [
    {
     "data": {
      "text/plain": [
       "'衣服'"
      ]
     },
     "execution_count": 43,
     "metadata": {},
     "output_type": "execute_result"
    }
   ],
   "source": [
    "predict('T恤很好看，就是短了点')"
   ]
  },
  {
   "cell_type": "code",
   "execution_count": null,
   "metadata": {},
   "outputs": [],
   "source": []
  },
  {
   "cell_type": "code",
   "execution_count": null,
   "metadata": {},
   "outputs": [],
   "source": []
  },
  {
   "cell_type": "code",
   "execution_count": null,
   "metadata": {},
   "outputs": [],
   "source": []
  },
  {
   "cell_type": "code",
   "execution_count": null,
   "metadata": {},
   "outputs": [],
   "source": []
  }
 ],
 "metadata": {
  "kernelspec": {
   "display_name": "ml-python",
   "language": "python",
   "name": "ml-python"
  },
  "language_info": {
   "codemirror_mode": {
    "name": "ipython",
    "version": 3
   },
   "file_extension": ".py",
   "mimetype": "text/x-python",
   "name": "python",
   "nbconvert_exporter": "python",
   "pygments_lexer": "ipython3",
   "version": "3.7.8"
  },
  "toc": {
   "base_numbering": 1,
   "nav_menu": {},
   "number_sections": true,
   "sideBar": true,
   "skip_h1_title": false,
   "title_cell": "Table of Contents",
   "title_sidebar": "Contents",
   "toc_cell": false,
   "toc_position": {},
   "toc_section_display": true,
   "toc_window_display": true
  }
 },
 "nbformat": 4,
 "nbformat_minor": 2
}
