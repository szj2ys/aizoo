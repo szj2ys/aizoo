{
 "cells": [
  {
   "cell_type": "markdown",
   "metadata": {
    "colab_type": "text",
    "id": "h1RDtYkDS6xf"
   },
   "source": [
    "之前我给大家介绍过一篇使用keras和LSTM来进行文本多分类的博客 ,今天我将在google提供的Colab notebook上使用tensorflow2.0来是实现以下中文文本多分类的实战应用。选择Colab notebook是因为在Colab notebook中google提供了免费的GPU资源供你使用，这样可以大大节省模型的训练时间。\n",
    "\n",
    "Google Colab，全名Colaboratory，是由谷歌提供的免费的云平台，可以使用keras、tensorflow等框架进行深度学习。最近Colab平台已经将K80 GPU更换成Tesla T4 GPU，提供了更强的算力。对于刚入门机器学习或深度学习的用户，这个平台是不二之选。\n",
    "\n",
    "要使用Google Colab必须要在科学上网的环境下，同时必须要有一个gmail账号，还没有gmail账号的同学请赶快注册一个吧。\n",
    "\n",
    "如何使用colab请看这篇博客（https://www.cnblogs.com/lfri/p/10471852.html）\n"
   ]
  },
  {
   "cell_type": "code",
   "execution_count": 1,
   "metadata": {
    "ExecuteTime": {
     "end_time": "2021-08-17T02:18:04.467022Z",
     "start_time": "2021-08-17T02:18:02.485790Z"
    },
    "colab": {},
    "colab_type": "code",
    "id": "FPUUPF3jtmJ4"
   },
   "outputs": [],
   "source": [
    "# %matplotlib inline\n",
    "import pandas as pd\n",
    "import matplotlib\n",
    "import numpy as np\n",
    "import matplotlib.pyplot as plt\n",
    "from sklearn.model_selection import train_test_split\n",
    "import jieba as jb\n",
    "import re"
   ]
  },
  {
   "cell_type": "code",
   "execution_count": 2,
   "metadata": {
    "ExecuteTime": {
     "end_time": "2021-08-17T02:18:09.751032Z",
     "start_time": "2021-08-17T02:18:09.726924Z"
    },
    "colab": {},
    "colab_type": "code",
    "id": "8rrMjRf4tsaM"
   },
   "outputs": [],
   "source": [
    "#如果还没有安装tensorflow2.0,请使用下面的命令安装tensorflow\n",
    "#!pip install tensorflow==2.0.0"
   ]
  },
  {
   "cell_type": "markdown",
   "metadata": {
    "colab_type": "text",
    "id": "2DUMMJaxY87-"
   },
   "source": [
    "# 数据"
   ]
  },
  {
   "cell_type": "code",
   "execution_count": 3,
   "metadata": {
    "ExecuteTime": {
     "end_time": "2021-08-17T02:18:19.942469Z",
     "start_time": "2021-08-17T02:18:13.681587Z"
    },
    "colab": {
     "base_uri": "https://localhost:8080/",
     "height": 35
    },
    "colab_type": "code",
    "id": "nylC15sMtwsD",
    "outputId": "1f0e0292-be50-4950-f480-055b905cd501"
   },
   "outputs": [
    {
     "name": "stdout",
     "output_type": "stream",
     "text": [
      "2.6.0\n"
     ]
    }
   ],
   "source": [
    "import tensorflow as tf\n",
    "from tensorflow.keras.preprocessing.text import Tokenizer\n",
    "from tensorflow.keras.preprocessing.sequence import pad_sequences\n",
    "print(tf.__version__)"
   ]
  },
  {
   "cell_type": "code",
   "execution_count": 6,
   "metadata": {
    "ExecuteTime": {
     "end_time": "2021-08-17T02:19:01.992861Z",
     "start_time": "2021-08-17T02:19:01.414572Z"
    },
    "colab": {
     "base_uri": "https://localhost:8080/",
     "height": 377
    },
    "colab_type": "code",
    "id": "mcN17j6OtyMK",
    "outputId": "f6a5919d-2ed4-4fc8-f422-dda7c96394ed"
   },
   "outputs": [
    {
     "name": "stdout",
     "output_type": "stream",
     "text": [
      "数据总量: 62774 .\n"
     ]
    },
    {
     "data": {
      "text/html": [
       "<div>\n",
       "<style scoped>\n",
       "    .dataframe tbody tr th:only-of-type {\n",
       "        vertical-align: middle;\n",
       "    }\n",
       "\n",
       "    .dataframe tbody tr th {\n",
       "        vertical-align: top;\n",
       "    }\n",
       "\n",
       "    .dataframe thead th {\n",
       "        text-align: right;\n",
       "    }\n",
       "</style>\n",
       "<table border=\"1\" class=\"dataframe\">\n",
       "  <thead>\n",
       "    <tr style=\"text-align: right;\">\n",
       "      <th></th>\n",
       "      <th>cat</th>\n",
       "      <th>label</th>\n",
       "      <th>review</th>\n",
       "    </tr>\n",
       "  </thead>\n",
       "  <tbody>\n",
       "    <tr>\n",
       "      <th>46843</th>\n",
       "      <td>衣服</td>\n",
       "      <td>0</td>\n",
       "      <td>和图片还是有差距的</td>\n",
       "    </tr>\n",
       "    <tr>\n",
       "      <th>54766</th>\n",
       "      <td>酒店</td>\n",
       "      <td>1</td>\n",
       "      <td>住过这么多酒店，还是头一次碰到盖黄色的被子，感觉不干净；地毯是黑花的，感觉很脏乱。环境还好，...</td>\n",
       "    </tr>\n",
       "    <tr>\n",
       "      <th>21964</th>\n",
       "      <td>水果</td>\n",
       "      <td>0</td>\n",
       "      <td>苹果个头小，不如菜市场，就是有个包装，不建议自己买来食用</td>\n",
       "    </tr>\n",
       "    <tr>\n",
       "      <th>57479</th>\n",
       "      <td>酒店</td>\n",
       "      <td>1</td>\n",
       "      <td>已经住过几次这家酒店，感觉非常好。服务员态度友善，又够专业，客房的装设时尚、舒适，配套设施齐...</td>\n",
       "    </tr>\n",
       "    <tr>\n",
       "      <th>32317</th>\n",
       "      <td>洗发水</td>\n",
       "      <td>0</td>\n",
       "      <td>货是收到了，怎么会是多半瓶呢，难怪便宜，原来东西也少，京东以后也不能相信了</td>\n",
       "    </tr>\n",
       "    <tr>\n",
       "      <th>46302</th>\n",
       "      <td>衣服</td>\n",
       "      <td>0</td>\n",
       "      <td>我在京东买了自己都记不清多少次的东西，这一次也是我唯一网购给的差评，衣服收到很硬我想着我洗一...</td>\n",
       "    </tr>\n",
       "    <tr>\n",
       "      <th>14661</th>\n",
       "      <td>手机</td>\n",
       "      <td>1</td>\n",
       "      <td>待机时间长，声音够大。信号不错。</td>\n",
       "    </tr>\n",
       "    <tr>\n",
       "      <th>54414</th>\n",
       "      <td>酒店</td>\n",
       "      <td>1</td>\n",
       "      <td>以住宿来说, 是一个不错的选择, 不过餐饮选择不多。地点不好找,也比较偏, 自己开车会方便点...</td>\n",
       "    </tr>\n",
       "    <tr>\n",
       "      <th>3661</th>\n",
       "      <td>书籍</td>\n",
       "      <td>0</td>\n",
       "      <td>充满了惨不忍睹的比喻 例如：用掺着血的牙膏沫子形容一串粉红色珍珠的色泽 让人情何以堪？！</td>\n",
       "    </tr>\n",
       "    <tr>\n",
       "      <th>6745</th>\n",
       "      <td>平板</td>\n",
       "      <td>1</td>\n",
       "      <td>给服装店买的两个，应该还不错。</td>\n",
       "    </tr>\n",
       "  </tbody>\n",
       "</table>\n",
       "</div>"
      ],
      "text/plain": [
       "       cat  label                                             review\n",
       "46843   衣服      0                                          和图片还是有差距的\n",
       "54766   酒店      1  住过这么多酒店，还是头一次碰到盖黄色的被子，感觉不干净；地毯是黑花的，感觉很脏乱。环境还好，...\n",
       "21964   水果      0                       苹果个头小，不如菜市场，就是有个包装，不建议自己买来食用\n",
       "57479   酒店      1  已经住过几次这家酒店，感觉非常好。服务员态度友善，又够专业，客房的装设时尚、舒适，配套设施齐...\n",
       "32317  洗发水      0              货是收到了，怎么会是多半瓶呢，难怪便宜，原来东西也少，京东以后也不能相信了\n",
       "46302   衣服      0  我在京东买了自己都记不清多少次的东西，这一次也是我唯一网购给的差评，衣服收到很硬我想着我洗一...\n",
       "14661   手机      1                                   待机时间长，声音够大。信号不错。\n",
       "54414   酒店      1  以住宿来说, 是一个不错的选择, 不过餐饮选择不多。地点不好找,也比较偏, 自己开车会方便点...\n",
       "3661    书籍      0       充满了惨不忍睹的比喻 例如：用掺着血的牙膏沫子形容一串粉红色珍珠的色泽 让人情何以堪？！\n",
       "6745    平板      1                                    给服装店买的两个，应该还不错。"
      ]
     },
     "execution_count": 6,
     "metadata": {},
     "output_type": "execute_result"
    }
   ],
   "source": [
    "df = pd.read_csv('./data/online_shopping_10_cats.csv')\n",
    "print(\"数据总量: %d .\" % len(df))\n",
    "df.sample(10)"
   ]
  },
  {
   "cell_type": "code",
   "execution_count": 8,
   "metadata": {
    "ExecuteTime": {
     "end_time": "2021-08-17T02:19:07.932038Z",
     "start_time": "2021-08-17T02:19:07.906644Z"
    },
    "colab": {
     "base_uri": "https://localhost:8080/",
     "height": 359
    },
    "colab_type": "code",
    "id": "g6B5Pc0gtyVg",
    "outputId": "b2dbe183-d5bf-43a5-de1b-5d2266226817"
   },
   "outputs": [
    {
     "data": {
      "text/html": [
       "<div>\n",
       "<style scoped>\n",
       "    .dataframe tbody tr th:only-of-type {\n",
       "        vertical-align: middle;\n",
       "    }\n",
       "\n",
       "    .dataframe tbody tr th {\n",
       "        vertical-align: top;\n",
       "    }\n",
       "\n",
       "    .dataframe thead th {\n",
       "        text-align: right;\n",
       "    }\n",
       "</style>\n",
       "<table border=\"1\" class=\"dataframe\">\n",
       "  <thead>\n",
       "    <tr style=\"text-align: right;\">\n",
       "      <th></th>\n",
       "      <th>cat</th>\n",
       "    </tr>\n",
       "  </thead>\n",
       "  <tbody>\n",
       "    <tr>\n",
       "      <th>0</th>\n",
       "      <td>书籍</td>\n",
       "    </tr>\n",
       "    <tr>\n",
       "      <th>1</th>\n",
       "      <td>平板</td>\n",
       "    </tr>\n",
       "    <tr>\n",
       "      <th>2</th>\n",
       "      <td>手机</td>\n",
       "    </tr>\n",
       "    <tr>\n",
       "      <th>3</th>\n",
       "      <td>水果</td>\n",
       "    </tr>\n",
       "    <tr>\n",
       "      <th>4</th>\n",
       "      <td>洗发水</td>\n",
       "    </tr>\n",
       "    <tr>\n",
       "      <th>5</th>\n",
       "      <td>热水器</td>\n",
       "    </tr>\n",
       "    <tr>\n",
       "      <th>6</th>\n",
       "      <td>蒙牛</td>\n",
       "    </tr>\n",
       "    <tr>\n",
       "      <th>7</th>\n",
       "      <td>衣服</td>\n",
       "    </tr>\n",
       "    <tr>\n",
       "      <th>8</th>\n",
       "      <td>计算机</td>\n",
       "    </tr>\n",
       "    <tr>\n",
       "      <th>9</th>\n",
       "      <td>酒店</td>\n",
       "    </tr>\n",
       "  </tbody>\n",
       "</table>\n",
       "</div>"
      ],
      "text/plain": [
       "   cat\n",
       "0   书籍\n",
       "1   平板\n",
       "2   手机\n",
       "3   水果\n",
       "4  洗发水\n",
       "5  热水器\n",
       "6   蒙牛\n",
       "7   衣服\n",
       "8  计算机\n",
       "9   酒店"
      ]
     },
     "execution_count": 8,
     "metadata": {},
     "output_type": "execute_result"
    }
   ],
   "source": [
    "df[[\"cat\"]].drop_duplicates().reset_index(drop=True)"
   ]
  },
  {
   "cell_type": "code",
   "execution_count": 9,
   "metadata": {
    "ExecuteTime": {
     "end_time": "2021-08-17T02:19:09.607313Z",
     "start_time": "2021-08-17T02:19:09.577148Z"
    },
    "colab": {
     "base_uri": "https://localhost:8080/",
     "height": 431
    },
    "colab_type": "code",
    "id": "x6W-Tq9utyfS",
    "outputId": "a12d4df7-5950-4703-c9e8-c476d17c3974"
   },
   "outputs": [
    {
     "name": "stdout",
     "output_type": "stream",
     "text": [
      "平板     10000\n",
      "水果     10000\n",
      "洗发水    10000\n",
      "衣服     10000\n",
      "酒店     10000\n",
      "计算机     3992\n",
      "书籍      3851\n",
      "手机      2323\n",
      "蒙牛      2033\n",
      "热水器      575\n",
      "Name: cat, dtype: int64\n",
      "\n",
      "平板     0.159302\n",
      "水果     0.159302\n",
      "洗发水    0.159302\n",
      "衣服     0.159302\n",
      "酒店     0.159302\n",
      "计算机    0.063593\n",
      "书籍     0.061347\n",
      "手机     0.037006\n",
      "蒙牛     0.032386\n",
      "热水器    0.009160\n",
      "Name: cat, dtype: float64\n"
     ]
    }
   ],
   "source": [
    "print(df.cat.value_counts())\n",
    "print()\n",
    "print(df.cat.value_counts()/len(df));\n"
   ]
  },
  {
   "cell_type": "code",
   "execution_count": 10,
   "metadata": {
    "ExecuteTime": {
     "end_time": "2021-08-17T02:19:10.507053Z",
     "start_time": "2021-08-17T02:19:10.485806Z"
    },
    "colab": {
     "base_uri": "https://localhost:8080/",
     "height": 127
    },
    "colab_type": "code",
    "id": "7t8RNhVctylV",
    "outputId": "73e54477-b7c6-410e-fb70-4d6d0b4c488c"
   },
   "outputs": [
    {
     "data": {
      "text/plain": [
       "array([['分辨率太低！到手存储空间不到4个G了！'],\n",
       "       ['一直想入一个国产平板，挑了很久看好了荣耀畅玩平板2，买的9.6大屏，看起来真心爽。配置完全够用！分屏功能尤其好评！'],\n",
       "       ['颜色大气高端，速度很快，清晰度好高，物流服务很好，绝对物有所值。'],\n",
       "       ['外观很漂亮，买个妈用的，大屏不怕看不清了，看电视剧更方便'],\n",
       "       ['现在用着还没有什么毛病，感觉还不错，不卡。']], dtype=object)"
      ]
     },
     "execution_count": 10,
     "metadata": {},
     "output_type": "execute_result"
    }
   ],
   "source": [
    "df[df.cat=='平板'][[\"review\"]].sample(5).values"
   ]
  },
  {
   "cell_type": "code",
   "execution_count": 11,
   "metadata": {
    "ExecuteTime": {
     "end_time": "2021-08-17T02:19:12.573802Z",
     "start_time": "2021-08-17T02:19:12.554804Z"
    },
    "colab": {
     "base_uri": "https://localhost:8080/",
     "height": 145
    },
    "colab_type": "code",
    "id": "yqHg5N_jtyrh",
    "outputId": "bcfde1d2-6f39-4629-8e51-8be437917e06"
   },
   "outputs": [
    {
     "data": {
      "text/plain": [
       "array([['1.自动开关机功能。我最喜欢的手机功能，M330居然有，我太兴奋了。设定自动开关机，在一定程度上可以延长手机待机时间，爽。2.红外线功能。M330如此价位的机器，居然有红外，且红外兼容性还不错，可以和部分有红外的手机通过红外传图片（不能传铃声），但通过红外传电脑上的图铃至M330没有任何问题。3.通话计时提示音功能。这个功能很人性化，拿到M330时，进入“通话记录-通话计时-提示设置”，发现只能设置分钟，有些失望。可设置为1分时，发现实际通话时是每到50秒就有提示音（提示音还比较大声），欣喜若狂。（后来看了说明书，知道提示音是在设置分钟数前10秒就发音提示的）4.其他人性化的方面。M330内置了不少实用功能，如录音器（录音最长达120秒）/日历/货币转换，这些功能平时生活中都用得着。M330的背景灯亮度可以调节，屏幕对比度可以调节，让人觉得用起很舒心。M330打游戏和GPRS上网时，屏幕背景灯常亮，很为用户着想。M330的左右功能键可以自己编辑，很方便。'],\n",
       "       ['按键比较独特，设计新颖，手感舒服'],\n",
       "       ['内屏材质为STN，不及主流的TFT！铃声音色不好，高音时还有失真现象！不支持MP3播放器！机身内存小，只有1.5MB！短信容量小，只有50条！短信不支持群发！电话簿项目少！'],\n",
       "       ['全是缺点，这是我切身体会'],\n",
       "       ['VK900手机各方面操作可以.比较人性化.照像比较好,像这样价格的手机,有这样的性能,我还是比较满足了.MP3用起来还可以.声音比较清楚.']],\n",
       "      dtype=object)"
      ]
     },
     "execution_count": 11,
     "metadata": {},
     "output_type": "execute_result"
    }
   ],
   "source": [
    "df[df.cat=='手机'][[\"review\"]].sample(5).values"
   ]
  },
  {
   "cell_type": "code",
   "execution_count": 12,
   "metadata": {
    "ExecuteTime": {
     "end_time": "2021-08-17T02:19:14.360782Z",
     "start_time": "2021-08-17T02:19:14.333361Z"
    },
    "colab": {
     "base_uri": "https://localhost:8080/",
     "height": 145
    },
    "colab_type": "code",
    "id": "sPOH8zjAtyx2",
    "outputId": "96525168-7605-4b63-a12f-a0b1c8ff5986"
   },
   "outputs": [
    {
     "data": {
      "text/plain": [
       "array([['还不错的酒店，虽然有些旧，日方也撤资了。可能南京本来也不大的原因吧，从酒店去新街口等地方都不远。服务也很好。'],\n",
       "       ['我们一家三口在岛上住了一天,总的感觉还不错.沙滩海水无得弹,很多珊湖石.在携程订观海木楼,山下几间房是看不到海的,一定要山上的才能观到海,有点遗憾.在岛上吃得还能接受,就是什么都要现金,另外晚上有很多小动物.'],\n",
       "       ['酒店位置离市中心很近,很方便.酒店硬件设施也不错,.'],\n",
       "       ['我真的建议所有到成都出差的朋友千万不要入住这家酒店，首先这个酒店的位置实在不好，附近基本上没有什么娱乐，而且因为附近的出租车是属于郊区的，管理非常不严格，如果发现不是本地人就会绕很远的路，我为了离客户的近才住的这家酒店，结果10元的路程，出租车竟然给我绕了30元。最重要的是这个酒店的服务很差，行政房没有行政待遇，check out时候竟然把免费的服务都算钱了。而且我是洲际的金卡会员，一向比较重视积分的和住宿天数的累计，因为我是携程定的酒店，这家酒店竟然不给我积分，甚至连一个标准的会员入住天数也没有给我累积。同样的在成都总府路附近的洲际下属的总府皇冠酒店，服务和地理环境非常的好，而且明确告诉我虽然是携成订的，但是优悦会的会员卡照样积分，这里说明一下，因为第一天住的不满意，我第二天就搬到那边了。我真心的建议所有有优悦会会员卡的朋友一定不要住这个酒店，要住就去总府皇冠，而且成都很小，高新开发区离市中心也不是很远，住在总府也方便的。'],\n",
       "       ['比较值，房间东东都比较新。主要是政府人员在此活动。商品部非常贵－－有点宰人！']], dtype=object)"
      ]
     },
     "execution_count": 12,
     "metadata": {},
     "output_type": "execute_result"
    }
   ],
   "source": [
    "df[df.cat=='酒店'][[\"review\"]].sample(5).values"
   ]
  },
  {
   "cell_type": "code",
   "execution_count": 13,
   "metadata": {
    "ExecuteTime": {
     "end_time": "2021-08-17T02:19:15.971661Z",
     "start_time": "2021-08-17T02:19:15.949957Z"
    },
    "colab": {
     "base_uri": "https://localhost:8080/",
     "height": 125
    },
    "colab_type": "code",
    "id": "Qof3E4K5ty7Z",
    "outputId": "f88f49f7-d4b8-4143-ebce-b283e6f9355d"
   },
   "outputs": [
    {
     "data": {
      "text/plain": [
       "array([['快递很快，卖家服务热情，裤子质量很好哦，拍的薄款夏天穿太合适了'],\n",
       "       ['看着感觉一般般，没图片好看！'],\n",
       "       ['宝贝收到了，老公非常喜欢，穿着很合身，样式好看，他喜欢我就很满意噢！必须好评！'],\n",
       "       ['东西不错，质量好，就是有点儿大了。下次买小一码的。'],\n",
       "       ['东西到了，与店家谈好的两件一起发货只看到一件 物流速度也超慢 要退货了才到货 真是无语了。']], dtype=object)"
      ]
     },
     "execution_count": 13,
     "metadata": {},
     "output_type": "execute_result"
    }
   ],
   "source": [
    "df[df.cat=='衣服'][[\"review\"]].sample(5).values"
   ]
  },
  {
   "cell_type": "markdown",
   "metadata": {
    "colab_type": "text",
    "id": "ZiwexnALYtRX"
   },
   "source": [
    "## 数据预处理\n",
    "\n",
    "下面我们要对评语进行一些预处理工作,这包括删除文本中的标点符号,特殊符号,还要删除一些无意义的常用词(stopword),因为这些词和符号对系统分析预测文本的内容没有任何帮助,反而会增加计算的复杂度和增加系统开销,所有在使用这些文本数据之前必须要将它们清理干净。"
   ]
  },
  {
   "cell_type": "code",
   "execution_count": 15,
   "metadata": {
    "ExecuteTime": {
     "end_time": "2021-08-17T02:19:28.490157Z",
     "start_time": "2021-08-17T02:19:28.479311Z"
    },
    "colab": {},
    "colab_type": "code",
    "id": "f0GCA1OFty_U"
   },
   "outputs": [],
   "source": [
    "#定义删除除字母,数字，汉字以外的所有符号的函数\n",
    "def remove_punctuation(line):\n",
    "    line = str(line)\n",
    "    if line.strip()=='':\n",
    "        return ''\n",
    "    rule = re.compile(u\"[^a-zA-Z0-9\\u4E00-\\u9FA5]\")\n",
    "    line = rule.sub('',line)\n",
    "    return line\n",
    " \n",
    "def stopwordslist(filepath):  \n",
    "    stopwords = [line.strip() for line in open(filepath, 'r', encoding='utf-8').readlines()]  \n",
    "    return stopwords  \n",
    "\n",
    "#加载停用词\n",
    "stopwords = stopwordslist(\"./data/chineseStopWords.txt\")"
   ]
  },
  {
   "cell_type": "markdown",
   "metadata": {
    "colab_type": "text",
    "id": "j-lQ-HZ5ZYXf"
   },
   "source": [
    "中文停用词包含了很多日常使用频率很高的常用词,如 吧，吗，呢，啥等一些感叹词等,这些高频常用词无法反应出文本的主要意思,所以要被过滤掉。\n"
   ]
  },
  {
   "cell_type": "code",
   "execution_count": 16,
   "metadata": {
    "ExecuteTime": {
     "end_time": "2021-08-17T02:19:32.643807Z",
     "start_time": "2021-08-17T02:19:32.121649Z"
    },
    "colab": {
     "base_uri": "https://localhost:8080/",
     "height": 359
    },
    "colab_type": "code",
    "id": "f7zcm7w1tzFH",
    "outputId": "f765fafe-bf81-4318-e97c-316576801a5d"
   },
   "outputs": [
    {
     "data": {
      "text/html": [
       "<div>\n",
       "<style scoped>\n",
       "    .dataframe tbody tr th:only-of-type {\n",
       "        vertical-align: middle;\n",
       "    }\n",
       "\n",
       "    .dataframe tbody tr th {\n",
       "        vertical-align: top;\n",
       "    }\n",
       "\n",
       "    .dataframe thead th {\n",
       "        text-align: right;\n",
       "    }\n",
       "</style>\n",
       "<table border=\"1\" class=\"dataframe\">\n",
       "  <thead>\n",
       "    <tr style=\"text-align: right;\">\n",
       "      <th></th>\n",
       "      <th>cat</th>\n",
       "      <th>label</th>\n",
       "      <th>review</th>\n",
       "      <th>clean_review</th>\n",
       "    </tr>\n",
       "  </thead>\n",
       "  <tbody>\n",
       "    <tr>\n",
       "      <th>48789</th>\n",
       "      <td>计算机</td>\n",
       "      <td>1</td>\n",
       "      <td>外观，键盘，性能和电池都挺不错，但就是进不了系统，郁闷啊。硬盘嘎吱响，怀疑有问题。虽然楼上有...</td>\n",
       "      <td>外观键盘性能和电池都挺不错但就是进不了系统郁闷啊硬盘嘎吱响怀疑有问题虽然楼上有人讲F9导入系...</td>\n",
       "    </tr>\n",
       "    <tr>\n",
       "      <th>51744</th>\n",
       "      <td>计算机</td>\n",
       "      <td>0</td>\n",
       "      <td>耳机、USB在右手下方位置，影响操作鼠标；12寸宽屏字体相对小一些；没有光驱。</td>\n",
       "      <td>耳机USB在右手下方位置影响操作鼠标12寸宽屏字体相对小一些没有光驱</td>\n",
       "    </tr>\n",
       "    <tr>\n",
       "      <th>2492</th>\n",
       "      <td>书籍</td>\n",
       "      <td>0</td>\n",
       "      <td>幸亏只买了一 本,也只浪费几元钱,我觉得中国人一直很喜欢一窝蜂的看待一些事物,没有自己主观的...</td>\n",
       "      <td>幸亏只买了一本也只浪费几元钱我觉得中国人一直很喜欢一窝蜂的看待一些事物没有自己主观的判断这本...</td>\n",
       "    </tr>\n",
       "    <tr>\n",
       "      <th>36935</th>\n",
       "      <td>蒙牛</td>\n",
       "      <td>1</td>\n",
       "      <td>我发现自己喜欢奶类的饮料。比如、旺仔，哇哈哈，蒙牛，果粒奶优。这是什么状况？没有长大？不至于。</td>\n",
       "      <td>我发现自己喜欢奶类的饮料比如旺仔哇哈哈蒙牛果粒奶优这是什么状况没有长大不至于</td>\n",
       "    </tr>\n",
       "    <tr>\n",
       "      <th>28366</th>\n",
       "      <td>洗发水</td>\n",
       "      <td>1</td>\n",
       "      <td>沙宣的确实不错，非常好用，赶上打折，性价比很高</td>\n",
       "      <td>沙宣的确实不错非常好用赶上打折性价比很高</td>\n",
       "    </tr>\n",
       "    <tr>\n",
       "      <th>15490</th>\n",
       "      <td>手机</td>\n",
       "      <td>0</td>\n",
       "      <td>e398视频不能放，售后说是软件版本的事，已有好多用户放映了</td>\n",
       "      <td>e398视频不能放售后说是软件版本的事已有好多用户放映了</td>\n",
       "    </tr>\n",
       "    <tr>\n",
       "      <th>1782</th>\n",
       "      <td>书籍</td>\n",
       "      <td>1</td>\n",
       "      <td>此书堪称经典。无论是否研究历史，无论是否爱好历史，甚至无论是否了解哪怕一丁点历史，都应该看看...</td>\n",
       "      <td>此书堪称经典无论是否研究历史无论是否爱好历史甚至无论是否了解哪怕一丁点历史都应该看看这本书通...</td>\n",
       "    </tr>\n",
       "    <tr>\n",
       "      <th>29995</th>\n",
       "      <td>洗发水</td>\n",
       "      <td>1</td>\n",
       "      <td>6.18活动买的，感觉超值，等用用再追加评价吧。</td>\n",
       "      <td>618活动买的感觉超值等用用再追加评价吧</td>\n",
       "    </tr>\n",
       "    <tr>\n",
       "      <th>44203</th>\n",
       "      <td>衣服</td>\n",
       "      <td>0</td>\n",
       "      <td>穿起来不舒服手工太粗糙</td>\n",
       "      <td>穿起来不舒服手工太粗糙</td>\n",
       "    </tr>\n",
       "    <tr>\n",
       "      <th>8703</th>\n",
       "      <td>平板</td>\n",
       "      <td>1</td>\n",
       "      <td>还可以吧 买贵了 第二天降价了 申请补差价 很顺利就退钱了</td>\n",
       "      <td>还可以吧买贵了第二天降价了申请补差价很顺利就退钱了</td>\n",
       "    </tr>\n",
       "  </tbody>\n",
       "</table>\n",
       "</div>"
      ],
      "text/plain": [
       "       cat  label                                             review  \\\n",
       "48789  计算机      1  外观，键盘，性能和电池都挺不错，但就是进不了系统，郁闷啊。硬盘嘎吱响，怀疑有问题。虽然楼上有...   \n",
       "51744  计算机      0            耳机、USB在右手下方位置，影响操作鼠标；12寸宽屏字体相对小一些；没有光驱。   \n",
       "2492    书籍      0  幸亏只买了一 本,也只浪费几元钱,我觉得中国人一直很喜欢一窝蜂的看待一些事物,没有自己主观的...   \n",
       "36935   蒙牛      1    我发现自己喜欢奶类的饮料。比如、旺仔，哇哈哈，蒙牛，果粒奶优。这是什么状况？没有长大？不至于。   \n",
       "28366  洗发水      1                            沙宣的确实不错，非常好用，赶上打折，性价比很高   \n",
       "15490   手机      0                     e398视频不能放，售后说是软件版本的事，已有好多用户放映了   \n",
       "1782    书籍      1  此书堪称经典。无论是否研究历史，无论是否爱好历史，甚至无论是否了解哪怕一丁点历史，都应该看看...   \n",
       "29995  洗发水      1                           6.18活动买的，感觉超值，等用用再追加评价吧。   \n",
       "44203   衣服      0                                        穿起来不舒服手工太粗糙   \n",
       "8703    平板      1                      还可以吧 买贵了 第二天降价了 申请补差价 很顺利就退钱了   \n",
       "\n",
       "                                            clean_review  \n",
       "48789  外观键盘性能和电池都挺不错但就是进不了系统郁闷啊硬盘嘎吱响怀疑有问题虽然楼上有人讲F9导入系...  \n",
       "51744                 耳机USB在右手下方位置影响操作鼠标12寸宽屏字体相对小一些没有光驱  \n",
       "2492   幸亏只买了一本也只浪费几元钱我觉得中国人一直很喜欢一窝蜂的看待一些事物没有自己主观的判断这本...  \n",
       "36935             我发现自己喜欢奶类的饮料比如旺仔哇哈哈蒙牛果粒奶优这是什么状况没有长大不至于  \n",
       "28366                               沙宣的确实不错非常好用赶上打折性价比很高  \n",
       "15490                       e398视频不能放售后说是软件版本的事已有好多用户放映了  \n",
       "1782   此书堪称经典无论是否研究历史无论是否爱好历史甚至无论是否了解哪怕一丁点历史都应该看看这本书通...  \n",
       "29995                               618活动买的感觉超值等用用再追加评价吧  \n",
       "44203                                        穿起来不舒服手工太粗糙  \n",
       "8703                           还可以吧买贵了第二天降价了申请补差价很顺利就退钱了  "
      ]
     },
     "execution_count": 16,
     "metadata": {},
     "output_type": "execute_result"
    }
   ],
   "source": [
    "df['clean_review'] = df['review'].apply(remove_punctuation)\n",
    "df.sample(10)"
   ]
  },
  {
   "cell_type": "markdown",
   "metadata": {
    "colab_type": "text",
    "id": "-p7sqWxKadqn"
   },
   "source": [
    "我们过滤掉了review中的标点符号和一些特殊符号，并生成了一个新的字段 clean_review。接下来我们要在clean_review的基础上进行分词,把每个评论内容分成由空格隔开的一个一个单独的词语。"
   ]
  },
  {
   "cell_type": "code",
   "execution_count": 17,
   "metadata": {
    "ExecuteTime": {
     "end_time": "2021-08-17T02:20:34.657276Z",
     "start_time": "2021-08-17T02:19:36.535017Z"
    },
    "colab": {
     "base_uri": "https://localhost:8080/",
     "height": 361
    },
    "colab_type": "code",
    "id": "Gy0f4q63tzL1",
    "outputId": "3ea76f1c-87ee-46c4-93a1-5cc013b8de1c"
   },
   "outputs": [
    {
     "name": "stderr",
     "output_type": "stream",
     "text": [
      "Building prefix dict from the default dictionary ...\n",
      "Loading model from cache /var/folders/xp/xrb2_xtx55g6g2wxnjw01wgr0000gn/T/jieba.cache\n",
      "Loading model cost 1.389 seconds.\n",
      "Prefix dict has been built successfully.\n"
     ]
    },
    {
     "data": {
      "text/html": [
       "<div>\n",
       "<style scoped>\n",
       "    .dataframe tbody tr th:only-of-type {\n",
       "        vertical-align: middle;\n",
       "    }\n",
       "\n",
       "    .dataframe tbody tr th {\n",
       "        vertical-align: top;\n",
       "    }\n",
       "\n",
       "    .dataframe thead th {\n",
       "        text-align: right;\n",
       "    }\n",
       "</style>\n",
       "<table border=\"1\" class=\"dataframe\">\n",
       "  <thead>\n",
       "    <tr style=\"text-align: right;\">\n",
       "      <th></th>\n",
       "      <th>cat</th>\n",
       "      <th>label</th>\n",
       "      <th>review</th>\n",
       "      <th>clean_review</th>\n",
       "      <th>cut_review</th>\n",
       "    </tr>\n",
       "  </thead>\n",
       "  <tbody>\n",
       "    <tr>\n",
       "      <th>0</th>\n",
       "      <td>书籍</td>\n",
       "      <td>1</td>\n",
       "      <td>﻿做父母一定要有刘墉这样的心态，不断地学习，不断地进步，不断地给自己补充新鲜血液，让自己保持...</td>\n",
       "      <td>做父母一定要有刘墉这样的心态不断地学习不断地进步不断地给自己补充新鲜血液让自己保持一颗年轻的...</td>\n",
       "      <td>做 父母 一定 刘墉 心态 不断 学习 不断 进步 不断 补充 新鲜血液 保持 一颗 年轻 ...</td>\n",
       "    </tr>\n",
       "    <tr>\n",
       "      <th>1</th>\n",
       "      <td>书籍</td>\n",
       "      <td>1</td>\n",
       "      <td>作者真有英国人严谨的风格，提出观点、进行论述论证，尽管本人对物理学了解不深，但是仍然能感受到...</td>\n",
       "      <td>作者真有英国人严谨的风格提出观点进行论述论证尽管本人对物理学了解不深但是仍然能感受到真理的火...</td>\n",
       "      <td>作者 真有 英国人 严谨 风格 提出 观点 进行 论述 论证 物理学 了解 不深 仍然 感受...</td>\n",
       "    </tr>\n",
       "    <tr>\n",
       "      <th>2</th>\n",
       "      <td>书籍</td>\n",
       "      <td>1</td>\n",
       "      <td>作者长篇大论借用详细报告数据处理工作和计算结果支持其新观点。为什么荷兰曾经县有欧洲最高的生产...</td>\n",
       "      <td>作者长篇大论借用详细报告数据处理工作和计算结果支持其新观点为什么荷兰曾经县有欧洲最高的生产率...</td>\n",
       "      <td>作者 长篇大论 借用 详细 报告 数据处理 工作 计算结果 支持 其新 观点 荷兰 曾经 县...</td>\n",
       "    </tr>\n",
       "    <tr>\n",
       "      <th>3</th>\n",
       "      <td>书籍</td>\n",
       "      <td>1</td>\n",
       "      <td>作者在战几时之前用了＂拥抱＂令人叫绝．日本如果没有战败，就有会有美军的占领，没胡官僚主义的延...</td>\n",
       "      <td>作者在战几时之前用了拥抱令人叫绝日本如果没有战败就有会有美军的占领没胡官僚主义的延续没有战后...</td>\n",
       "      <td>作者 战 之前 拥抱 令人 叫绝 日本 没有 战败 会 美军 占领 没胡 官僚主义 延续 没...</td>\n",
       "    </tr>\n",
       "    <tr>\n",
       "      <th>4</th>\n",
       "      <td>书籍</td>\n",
       "      <td>1</td>\n",
       "      <td>作者在少年时即喜阅读，能看出他精读了无数经典，因而他有一个庞大的内心世界。他的作品最难能可贵...</td>\n",
       "      <td>作者在少年时即喜阅读能看出他精读了无数经典因而他有一个庞大的内心世界他的作品最难能可贵的有两...</td>\n",
       "      <td>作者 少年 时即 喜 阅读 看出 精读 无数 经典 一个 庞大 内心世界 作品 难能可贵 两...</td>\n",
       "    </tr>\n",
       "  </tbody>\n",
       "</table>\n",
       "</div>"
      ],
      "text/plain": [
       "  cat  label                                             review  \\\n",
       "0  书籍      1  ﻿做父母一定要有刘墉这样的心态，不断地学习，不断地进步，不断地给自己补充新鲜血液，让自己保持...   \n",
       "1  书籍      1  作者真有英国人严谨的风格，提出观点、进行论述论证，尽管本人对物理学了解不深，但是仍然能感受到...   \n",
       "2  书籍      1  作者长篇大论借用详细报告数据处理工作和计算结果支持其新观点。为什么荷兰曾经县有欧洲最高的生产...   \n",
       "3  书籍      1  作者在战几时之前用了＂拥抱＂令人叫绝．日本如果没有战败，就有会有美军的占领，没胡官僚主义的延...   \n",
       "4  书籍      1  作者在少年时即喜阅读，能看出他精读了无数经典，因而他有一个庞大的内心世界。他的作品最难能可贵...   \n",
       "\n",
       "                                        clean_review  \\\n",
       "0  做父母一定要有刘墉这样的心态不断地学习不断地进步不断地给自己补充新鲜血液让自己保持一颗年轻的...   \n",
       "1  作者真有英国人严谨的风格提出观点进行论述论证尽管本人对物理学了解不深但是仍然能感受到真理的火...   \n",
       "2  作者长篇大论借用详细报告数据处理工作和计算结果支持其新观点为什么荷兰曾经县有欧洲最高的生产率...   \n",
       "3  作者在战几时之前用了拥抱令人叫绝日本如果没有战败就有会有美军的占领没胡官僚主义的延续没有战后...   \n",
       "4  作者在少年时即喜阅读能看出他精读了无数经典因而他有一个庞大的内心世界他的作品最难能可贵的有两...   \n",
       "\n",
       "                                          cut_review  \n",
       "0  做 父母 一定 刘墉 心态 不断 学习 不断 进步 不断 补充 新鲜血液 保持 一颗 年轻 ...  \n",
       "1  作者 真有 英国人 严谨 风格 提出 观点 进行 论述 论证 物理学 了解 不深 仍然 感受...  \n",
       "2  作者 长篇大论 借用 详细 报告 数据处理 工作 计算结果 支持 其新 观点 荷兰 曾经 县...  \n",
       "3  作者 战 之前 拥抱 令人 叫绝 日本 没有 战败 会 美军 占领 没胡 官僚主义 延续 没...  \n",
       "4  作者 少年 时即 喜 阅读 看出 精读 无数 经典 一个 庞大 内心世界 作品 难能可贵 两...  "
      ]
     },
     "execution_count": 17,
     "metadata": {},
     "output_type": "execute_result"
    }
   ],
   "source": [
    "#分词，并过滤停用词\n",
    "df['cut_review'] = df['clean_review'].apply(lambda x: \" \".join([w for w in list(jb.cut(x)) if w not in stopwords]))\n",
    "df.head()"
   ]
  },
  {
   "cell_type": "markdown",
   "metadata": {
    "colab_type": "text",
    "id": "Jh5CMc8DdNPx"
   },
   "source": [
    "# 建模\n",
    "\n",
    " 首先我们要数据集中拆分出训练集和验证集,我们将80%的数据作为训练集,20%的数据作为验证集，我们通过分层抽样的方式来随机抽样，注意在这里我们使用了sklearn的train_test_split的方法来抽样,并使用了stratify参数来保证抽样后,训练集和验证集中的各个类目的占比与原数据集保持一致。"
   ]
  },
  {
   "cell_type": "code",
   "execution_count": 18,
   "metadata": {
    "ExecuteTime": {
     "end_time": "2021-08-17T02:20:34.804084Z",
     "start_time": "2021-08-17T02:20:34.662410Z"
    },
    "colab": {
     "base_uri": "https://localhost:8080/",
     "height": 53
    },
    "colab_type": "code",
    "id": "1X_6PoqUtzQr",
    "outputId": "94732fd8-5ca7-43e1-a530-00319f1acb17"
   },
   "outputs": [
    {
     "name": "stdout",
     "output_type": "stream",
     "text": [
      "50219\n",
      "12555\n"
     ]
    }
   ],
   "source": [
    "#拆分训练集和测试集\n",
    "X_train, X_validation, Y_train, Y_validation = train_test_split(df[['cut_review']],df[[\"cat\"]], test_size = 0.2,stratify=df.cat)\n",
    "print(len(X_train))\n",
    "print(len(X_validation))"
   ]
  },
  {
   "cell_type": "code",
   "execution_count": 19,
   "metadata": {
    "ExecuteTime": {
     "end_time": "2021-08-17T02:20:34.875218Z",
     "start_time": "2021-08-17T02:20:34.811897Z"
    },
    "colab": {
     "base_uri": "https://localhost:8080/",
     "height": 215
    },
    "colab_type": "code",
    "id": "acL0ARkztzJv",
    "outputId": "ba40081b-222b-41b2-905a-c80748000633"
   },
   "outputs": [
    {
     "data": {
      "text/plain": [
       "水果     0.159302\n",
       "洗发水    0.159302\n",
       "酒店     0.159302\n",
       "衣服     0.159302\n",
       "平板     0.159302\n",
       "计算机    0.063601\n",
       "书籍     0.061351\n",
       "手机     0.036998\n",
       "蒙牛     0.032378\n",
       "热水器    0.009160\n",
       "Name: cat, dtype: float64"
      ]
     },
     "execution_count": 19,
     "metadata": {},
     "output_type": "execute_result"
    }
   ],
   "source": [
    "Y_train.cat.value_counts()/len(Y_train)"
   ]
  },
  {
   "cell_type": "code",
   "execution_count": 20,
   "metadata": {
    "ExecuteTime": {
     "end_time": "2021-08-17T02:20:34.958778Z",
     "start_time": "2021-08-17T02:20:34.934531Z"
    },
    "colab": {
     "base_uri": "https://localhost:8080/",
     "height": 215
    },
    "colab_type": "code",
    "id": "AxRMq888hBY2",
    "outputId": "7b21bfc1-831a-46e7-ce8e-c6a36feee4b1"
   },
   "outputs": [
    {
     "data": {
      "text/plain": [
       "平板     0.159299\n",
       "水果     0.159299\n",
       "洗发水    0.159299\n",
       "衣服     0.159299\n",
       "酒店     0.159299\n",
       "计算机    0.063560\n",
       "书籍     0.061330\n",
       "手机     0.037037\n",
       "蒙牛     0.032417\n",
       "热水器    0.009160\n",
       "Name: cat, dtype: float64"
      ]
     },
     "execution_count": 20,
     "metadata": {},
     "output_type": "execute_result"
    }
   ],
   "source": [
    "Y_validation.cat.value_counts()/len(Y_validation)"
   ]
  },
  {
   "cell_type": "code",
   "execution_count": 21,
   "metadata": {
    "ExecuteTime": {
     "end_time": "2021-08-17T02:20:34.989716Z",
     "start_time": "2021-08-17T02:20:34.966842Z"
    },
    "colab": {},
    "colab_type": "code",
    "id": "3dADGUfptzDB"
   },
   "outputs": [],
   "source": [
    "\n",
    "vocab_size = 5000\n",
    "embedding_dim = 64\n",
    "max_length = 150\n",
    "trunc_type = 'post'\n",
    "padding_type = 'post'\n",
    "oov_tok = '<OOV>'"
   ]
  },
  {
   "cell_type": "code",
   "execution_count": 22,
   "metadata": {
    "ExecuteTime": {
     "end_time": "2021-08-17T02:20:37.344819Z",
     "start_time": "2021-08-17T02:20:34.999767Z"
    },
    "colab": {},
    "colab_type": "code",
    "id": "IeTTZ3SSty4S"
   },
   "outputs": [],
   "source": [
    "tokenizer = Tokenizer(num_words = vocab_size, oov_token=oov_tok)\n",
    "tokenizer.fit_on_texts(X_train.cut_review.values)\n",
    "word_index = tokenizer.word_index\n",
    "reverse_word_index = dict([(value, key) for (key, value) in word_index.items()])"
   ]
  },
  {
   "cell_type": "code",
   "execution_count": 23,
   "metadata": {
    "ExecuteTime": {
     "end_time": "2021-08-17T02:20:37.651209Z",
     "start_time": "2021-08-17T02:20:37.483280Z"
    },
    "colab": {
     "base_uri": "https://localhost:8080/",
     "height": 233
    },
    "colab_type": "code",
    "id": "RZeoOr-Sty12",
    "outputId": "69fa2f96-3293-49e9-fe4c-8dd5a3e6e426"
   },
   "outputs": [
    {
     "name": "stdout",
     "output_type": "stream",
     "text": [
      "62617\n",
      "\n"
     ]
    },
    {
     "data": {
      "text/plain": [
       "[('<OOV>', 1),\n",
       " ('买', 2),\n",
       " ('不错', 3),\n",
       " ('没有', 4),\n",
       " ('酒店', 5),\n",
       " ('京东', 6),\n",
       " ('说', 7),\n",
       " ('房间', 8),\n",
       " ('非常', 9),\n",
       " ('一个', 10)]"
      ]
     },
     "execution_count": 23,
     "metadata": {},
     "output_type": "execute_result"
    }
   ],
   "source": [
    "print(len(list(word_index.items())))\n",
    "print()\n",
    "list(word_index.items())[:10]"
   ]
  },
  {
   "cell_type": "code",
   "execution_count": 24,
   "metadata": {
    "ExecuteTime": {
     "end_time": "2021-08-17T02:20:40.642985Z",
     "start_time": "2021-08-17T02:20:37.661129Z"
    },
    "colab": {},
    "colab_type": "code",
    "id": "vRDmrC4mtyvS"
   },
   "outputs": [],
   "source": [
    "X_train_sequences = tokenizer.texts_to_sequences(X_train.cut_review.values)\n",
    "X_train_padded = pad_sequences(X_train_sequences, maxlen=max_length, padding=padding_type, truncating=trunc_type)\n",
    "\n",
    "X_validation_sequences = tokenizer.texts_to_sequences(X_validation.cut_review.values)\n",
    "X_validation_padded = pad_sequences(X_validation_sequences, maxlen=max_length, padding=padding_type, truncating=trunc_type)\n",
    "\n"
   ]
  },
  {
   "cell_type": "code",
   "execution_count": 25,
   "metadata": {
    "ExecuteTime": {
     "end_time": "2021-08-17T02:20:53.781042Z",
     "start_time": "2021-08-17T02:20:53.680577Z"
    },
    "colab": {
     "base_uri": "https://localhost:8080/",
     "height": 305
    },
    "colab_type": "code",
    "id": "WtWvvR0-nx35",
    "outputId": "55dc433d-6d49-4f94-d3f4-ab08859f6336"
   },
   "outputs": [
    {
     "name": "stdout",
     "output_type": "stream",
     "text": [
      "口感 不错 说 无蜡 貌似 上面 蜡\n",
      "\n",
      "[337, 3, 7, 1, 1502, 417, 4398]\n",
      "\n"
     ]
    },
    {
     "data": {
      "text/plain": [
       "array([ 337,    3,    7,    1, 1502,  417, 4398,    0,    0,    0,    0,\n",
       "          0,    0,    0,    0,    0,    0,    0,    0,    0,    0,    0,\n",
       "          0,    0,    0,    0,    0,    0,    0,    0,    0,    0,    0,\n",
       "          0,    0,    0,    0,    0,    0,    0,    0,    0,    0,    0,\n",
       "          0,    0,    0,    0,    0,    0,    0,    0,    0,    0,    0,\n",
       "          0,    0,    0,    0,    0,    0,    0,    0,    0,    0,    0,\n",
       "          0,    0,    0,    0,    0,    0,    0,    0,    0,    0,    0,\n",
       "          0,    0,    0,    0,    0,    0,    0,    0,    0,    0,    0,\n",
       "          0,    0,    0,    0,    0,    0,    0,    0,    0,    0,    0,\n",
       "          0,    0,    0,    0,    0,    0,    0,    0,    0,    0,    0,\n",
       "          0,    0,    0,    0,    0,    0,    0,    0,    0,    0,    0,\n",
       "          0,    0,    0,    0,    0,    0,    0,    0,    0,    0,    0,\n",
       "          0,    0,    0,    0,    0,    0,    0,    0,    0,    0,    0,\n",
       "          0,    0,    0,    0,    0,    0,    0], dtype=int32)"
      ]
     },
     "execution_count": 25,
     "metadata": {},
     "output_type": "execute_result"
    }
   ],
   "source": [
    "index = 10 \n",
    "print(X_train.cut_review.values[index])\n",
    "print()\n",
    "print(X_train_sequences[index])\n",
    "print()\n",
    "X_train_padded[index]\n"
   ]
  },
  {
   "cell_type": "code",
   "execution_count": 26,
   "metadata": {
    "ExecuteTime": {
     "end_time": "2021-08-17T02:21:00.447865Z",
     "start_time": "2021-08-17T02:21:00.401211Z"
    },
    "colab": {
     "base_uri": "https://localhost:8080/",
     "height": 125
    },
    "colab_type": "code",
    "id": "_FXrRWfC03aP",
    "outputId": "f8fbce21-665d-46b1-b325-9b16430541c5"
   },
   "outputs": [
    {
     "name": "stdout",
     "output_type": "stream",
     "text": [
      "104 -> 携程\n",
      "3 -> 不错\n",
      "120 -> 环境\n",
      "\n",
      "贴身 -> 7274\n",
      "1 -> <OOV>\n"
     ]
    }
   ],
   "source": [
    "print(\"104 ->\",reverse_word_index[104])\n",
    "print(\"3 ->\",reverse_word_index[3])\n",
    "print(\"120 ->\",reverse_word_index[120])\n",
    "print()\n",
    "print(\"贴身 ->\",dict(list(word_index.items()))[\"贴身\"])\n",
    "print(\"1 ->\",reverse_word_index[1])\n"
   ]
  },
  {
   "cell_type": "code",
   "execution_count": 27,
   "metadata": {
    "ExecuteTime": {
     "end_time": "2021-08-17T02:21:03.470884Z",
     "start_time": "2021-08-17T02:21:02.021705Z"
    },
    "colab": {
     "base_uri": "https://localhost:8080/",
     "height": 125
    },
    "colab_type": "code",
    "id": "SlB4ZWettypJ",
    "outputId": "9b2f7a4c-e3b7-484f-91ea-8b17d91f87fe"
   },
   "outputs": [
    {
     "name": "stdout",
     "output_type": "stream",
     "text": [
      "{'平板': 1, '水果': 2, '洗发水': 3, '衣服': 4, '酒店': 5, '计算机': 6, '书籍': 7, '手机': 8, '蒙牛': 9, '热水器': 10}\n",
      "(50219, 1)\n",
      "\n",
      "[2]\n",
      "[3]\n",
      "[3]\n"
     ]
    }
   ],
   "source": [
    "label_tokenizer = Tokenizer()\n",
    "label_tokenizer.fit_on_texts(df.cat.values)\n",
    "\n",
    "Y_training_cat_seq = np.array(label_tokenizer.texts_to_sequences(Y_train.cat.values))\n",
    "Y_validation_cat_seq = np.array(label_tokenizer.texts_to_sequences(Y_validation.cat.values))\n",
    "\n",
    "label_word_index = label_tokenizer.word_index\n",
    "\n",
    "print(dict(list(label_word_index.items())))\n",
    "print(Y_training_cat_seq.shape)\n",
    "print()\n",
    "print(Y_training_cat_seq[0])\n",
    "print(Y_training_cat_seq[1])\n",
    "print(Y_training_cat_seq[2])\n"
   ]
  },
  {
   "cell_type": "code",
   "execution_count": 28,
   "metadata": {
    "ExecuteTime": {
     "end_time": "2021-08-17T02:21:04.355916Z",
     "start_time": "2021-08-17T02:21:04.311068Z"
    },
    "colab": {
     "base_uri": "https://localhost:8080/",
     "height": 91
    },
    "colab_type": "code",
    "id": "0wIz-Yt5tyjS",
    "outputId": "10c1f419-4320-475d-8888-f867d9f1a04b"
   },
   "outputs": [
    {
     "name": "stdout",
     "output_type": "stream",
     "text": [
      "水果 新鲜 重点 评价 一下 快递 小哥 服务态度 非常 非常 细心 水果 送到 够 面 一个 一个 检查 有没有 坏 感动 京东 配送 员 真的 非常 眼光 赞赞赞 ? ? ? ? ? ? ? ? ? ? ? ? ? ? ? ? ? ? ? ? ? ? ? ? ? ? ? ? ? ? ? ? ? ? ? ? ? ? ? ? ? ? ? ? ? ? ? ? ? ? ? ? ? ? ? ? ? ? ? ? ? ? ? ? ? ? ? ? ? ? ? ? ? ? ? ? ? ? ? ? ? ? ? ? ? ? ? ? ? ? ? ? ? ? ? ? ? ? ? ? ? ? ? ? ? ? ? ? ? ? ? ? ? ? ? ? ? ? ? ? ? ?\n",
      "------------------------------------------------\n",
      "水果 新鲜 重点 评价 一下 快递 小哥 服务态度 非常 非常 细心 水果 送到 够 面 一个 一个 检查 有没有 坏 感动 京东 配送 员 真的 非常 眼光 赞赞赞\n"
     ]
    }
   ],
   "source": [
    "reverse_word_index = dict([(value, key) for (key, value) in word_index.items()])\n",
    "\n",
    "def decode_article(text):\n",
    "    return ' '.join([reverse_word_index.get(i, '?') for i in text])\n",
    "print(decode_article(X_train_padded[0]))\n",
    "print('------------------------------------------------')\n",
    "print(X_train.cut_review.values[0])"
   ]
  },
  {
   "cell_type": "code",
   "execution_count": 29,
   "metadata": {
    "ExecuteTime": {
     "end_time": "2021-08-17T02:21:18.307573Z",
     "start_time": "2021-08-17T02:21:17.337595Z"
    },
    "colab": {
     "base_uri": "https://localhost:8080/",
     "height": 305
    },
    "colab_type": "code",
    "id": "q0gFILf3tycD",
    "outputId": "9a76b112-dca1-4e51-9c94-7f74c77c0b7d"
   },
   "outputs": [
    {
     "name": "stderr",
     "output_type": "stream",
     "text": [
      "2021-08-17 10:21:17.406088: I tensorflow/core/platform/cpu_feature_guard.cc:142] This TensorFlow binary is optimized with oneAPI Deep Neural Network Library (oneDNN) to use the following CPU instructions in performance-critical operations:  AVX2 FMA\n",
      "To enable them in other operations, rebuild TensorFlow with the appropriate compiler flags.\n"
     ]
    },
    {
     "name": "stdout",
     "output_type": "stream",
     "text": [
      "Model: \"sequential\"\n",
      "_________________________________________________________________\n",
      "Layer (type)                 Output Shape              Param #   \n",
      "=================================================================\n",
      "embedding (Embedding)        (None, None, 64)          320000    \n",
      "_________________________________________________________________\n",
      "bidirectional (Bidirectional (None, 128)               66048     \n",
      "_________________________________________________________________\n",
      "dense (Dense)                (None, 64)                8256      \n",
      "_________________________________________________________________\n",
      "dense_1 (Dense)              (None, 11)                715       \n",
      "=================================================================\n",
      "Total params: 395,019\n",
      "Trainable params: 395,019\n",
      "Non-trainable params: 0\n",
      "_________________________________________________________________\n"
     ]
    }
   ],
   "source": [
    "model = tf.keras.Sequential([\n",
    "    \n",
    "    tf.keras.layers.Embedding(vocab_size, embedding_dim),\n",
    "    tf.keras.layers.Bidirectional(tf.keras.layers.LSTM(embedding_dim)),\n",
    "    tf.keras.layers.Dense(embedding_dim, activation='relu'),\n",
    "    tf.keras.layers.Dense(11, activation='softmax')\n",
    "])\n",
    "model.summary()"
   ]
  },
  {
   "cell_type": "code",
   "execution_count": 30,
   "metadata": {
    "ExecuteTime": {
     "end_time": "2021-08-17T02:21:24.780986Z",
     "start_time": "2021-08-17T02:21:24.759592Z"
    },
    "colab": {},
    "colab_type": "code",
    "id": "p3NBM_CptyY7"
   },
   "outputs": [],
   "source": [
    "model.compile(loss='sparse_categorical_crossentropy', optimizer='adam', metrics=['accuracy'])"
   ]
  },
  {
   "cell_type": "code",
   "execution_count": 31,
   "metadata": {
    "ExecuteTime": {
     "end_time": "2021-08-17T02:53:49.304404Z",
     "start_time": "2021-08-17T02:21:29.477076Z"
    },
    "colab": {
     "base_uri": "https://localhost:8080/",
     "height": 395
    },
    "colab_type": "code",
    "id": "4xf9ROmaxJS9",
    "outputId": "33d242c2-c40f-4d1f-a41d-345b387aecbd"
   },
   "outputs": [
    {
     "name": "stderr",
     "output_type": "stream",
     "text": [
      "2021-08-17 10:21:29.556191: I tensorflow/compiler/mlir/mlir_graph_optimization_pass.cc:185] None of the MLIR Optimization Passes are enabled (registered 2)\n"
     ]
    },
    {
     "name": "stdout",
     "output_type": "stream",
     "text": [
      "Epoch 1/10\n",
      "1570/1570 - 213s - loss: 0.6551 - accuracy: 0.7752 - val_loss: 0.3627 - val_accuracy: 0.8740\n",
      "Epoch 2/10\n",
      "1570/1570 - 185s - loss: 0.3069 - accuracy: 0.8940 - val_loss: 0.3663 - val_accuracy: 0.8757\n",
      "Epoch 3/10\n",
      "1570/1570 - 183s - loss: 0.2533 - accuracy: 0.9106 - val_loss: 0.3425 - val_accuracy: 0.8832\n",
      "Epoch 4/10\n",
      "1570/1570 - 189s - loss: 0.2228 - accuracy: 0.9208 - val_loss: 0.3524 - val_accuracy: 0.8802\n",
      "Epoch 5/10\n",
      "1570/1570 - 163s - loss: 0.1982 - accuracy: 0.9301 - val_loss: 0.3729 - val_accuracy: 0.8774\n",
      "Epoch 6/10\n",
      "1570/1570 - 200s - loss: 0.1800 - accuracy: 0.9354 - val_loss: 0.3802 - val_accuracy: 0.8792\n",
      "Epoch 7/10\n",
      "1570/1570 - 226s - loss: 0.1648 - accuracy: 0.9404 - val_loss: 0.3919 - val_accuracy: 0.8805\n",
      "Epoch 8/10\n",
      "1570/1570 - 234s - loss: 0.1483 - accuracy: 0.9460 - val_loss: 0.4461 - val_accuracy: 0.8729\n",
      "Epoch 9/10\n",
      "1570/1570 - 174s - loss: 0.1365 - accuracy: 0.9509 - val_loss: 0.4620 - val_accuracy: 0.8739\n",
      "Epoch 10/10\n",
      "1570/1570 - 171s - loss: 0.1233 - accuracy: 0.9555 - val_loss: 0.4907 - val_accuracy: 0.8718\n"
     ]
    }
   ],
   "source": [
    "num_epochs = 10\n",
    "history = model.fit(X_train_padded, \n",
    "                    Y_training_cat_seq, \n",
    "                    epochs=num_epochs, \n",
    "                    validation_data=(X_validation_padded, Y_validation_cat_seq), \n",
    "                    verbose=2)"
   ]
  },
  {
   "cell_type": "code",
   "execution_count": 32,
   "metadata": {
    "ExecuteTime": {
     "end_time": "2021-08-17T02:53:50.466298Z",
     "start_time": "2021-08-17T02:53:49.312666Z"
    },
    "colab": {
     "base_uri": "https://localhost:8080/",
     "height": 541
    },
    "colab_type": "code",
    "id": "Czd41c1WxJWN",
    "outputId": "f3cb2b8a-5c6b-4608-ff72-b5c65f3a121a"
   },
   "outputs": [
    {
     "data": {
      "image/png": "[encoded data removed]",
      "text/plain": [
       "<Figure size 432x288 with 1 Axes>"
      ]
     },
     "metadata": {
      "needs_background": "light"
     },
     "output_type": "display_data"
    },
    {
     "data": {
      "image/png": "[encoded data removed]",
      "text/plain": [
       "<Figure size 432x288 with 1 Axes>"
      ]
     },
     "metadata": {
      "needs_background": "light"
     },
     "output_type": "display_data"
    }
   ],
   "source": [
    "def plot_graphs(history, string):    \n",
    "    plt.plot(history.history[string])\n",
    "    plt.plot(history.history['val_'+string])\n",
    "    plt.xlabel(\"Epochs\")\n",
    "    plt.ylabel(string)\n",
    "    plt.legend([string, 'val_'+string])\n",
    "    plt.show()\n",
    "\n",
    "plot_graphs(history, \"accuracy\")\n",
    "plot_graphs(history, \"loss\")"
   ]
  },
  {
   "cell_type": "code",
   "execution_count": 33,
   "metadata": {
    "ExecuteTime": {
     "end_time": "2021-08-17T02:53:58.008460Z",
     "start_time": "2021-08-17T02:53:50.469092Z"
    },
    "colab": {},
    "colab_type": "code",
    "id": "zAKL_F-wxJYy"
   },
   "outputs": [],
   "source": [
    "import seaborn as sns\n",
    "from sklearn.metrics import accuracy_score, confusion_matrix\n",
    " \n",
    "y_pred = model.predict(X_validation_padded)\n",
    "y_pred = y_pred.argmax(axis = 1)\n"
   ]
  },
  {
   "cell_type": "code",
   "execution_count": 34,
   "metadata": {
    "ExecuteTime": {
     "end_time": "2021-08-17T02:53:58.590788Z",
     "start_time": "2021-08-17T02:53:58.012311Z"
    },
    "colab": {
     "base_uri": "https://localhost:8080/",
     "height": 523
    },
    "colab_type": "code",
    "id": "Tt3MPkFXxJhu",
    "outputId": "3c971497-4554-470d-88af-9731e859e815"
   },
   "outputs": [
    {
     "name": "stdout",
     "output_type": "stream",
     "text": [
      "{'平板': 1, '水果': 2, '洗发水': 3, '衣服': 4, '酒店': 5, '计算机': 6, '书籍': 7, '手机': 8, '蒙牛': 9, '热水器': 10}\n"
     ]
    },
    {
     "data": {
      "image/png": "[encoded data removed]",
      "text/plain": [
       "<Figure size 720x576 with 2 Axes>"
      ]
     },
     "metadata": {
      "needs_background": "light"
     },
     "output_type": "display_data"
    }
   ],
   "source": [
    "labels=[1,2,3,4,5,6,7,8,9,10] \n",
    "conf_mat = confusion_matrix(Y_validation_cat_seq, y_pred)\n",
    "fig, ax = plt.subplots(figsize=(10,8))\n",
    "sns.heatmap(conf_mat, annot=True, fmt='d',xticklabels=labels, yticklabels=labels)\n",
    "plt.ylabel('actual results',fontsize=18);\n",
    "plt.xlabel('predict result',fontsize=18);\n",
    "print(dict(list(label_word_index.items())))\n",
    "\n"
   ]
  },
  {
   "cell_type": "code",
   "execution_count": 35,
   "metadata": {
    "ExecuteTime": {
     "end_time": "2021-08-17T02:53:58.629556Z",
     "start_time": "2021-08-17T02:53:58.592713Z"
    },
    "colab": {
     "base_uri": "https://localhost:8080/",
     "height": 359
    },
    "colab_type": "code",
    "id": "Oh2m0x1exJku",
    "outputId": "413572d6-0981-46e3-83c7-a1a9d122fa63"
   },
   "outputs": [
    {
     "name": "stdout",
     "output_type": "stream",
     "text": [
      "accuracy 0.8718438868976504\n",
      "              precision    recall  f1-score   support\n",
      "\n",
      "           1       0.76      0.77      0.77      2000\n",
      "           2       0.91      0.89      0.90      2000\n",
      "           3       0.79      0.84      0.81      2000\n",
      "           4       0.88      0.87      0.88      2000\n",
      "           5       0.99      0.97      0.98      2000\n",
      "           6       0.92      0.90      0.91       798\n",
      "           7       0.94      0.92      0.93       770\n",
      "           8       0.81      0.81      0.81       465\n",
      "           9       1.00      1.00      1.00       407\n",
      "          10       0.50      0.47      0.49       115\n",
      "\n",
      "    accuracy                           0.87     12555\n",
      "   macro avg       0.85      0.84      0.85     12555\n",
      "weighted avg       0.87      0.87      0.87     12555\n",
      "\n",
      "{'平板': 1, '水果': 2, '洗发水': 3, '衣服': 4, '酒店': 5, '计算机': 6, '书籍': 7, '手机': 8, '蒙牛': 9, '热水器': 10}\n"
     ]
    }
   ],
   "source": [
    "from  sklearn.metrics import classification_report \n",
    "print('accuracy %s' % accuracy_score(y_pred, Y_validation_cat_seq))\n",
    "print(classification_report(Y_validation_cat_seq, y_pred,target_names=[str(w) for w in labels]))\n",
    "print(dict(list(label_word_index.items())))"
   ]
  },
  {
   "cell_type": "markdown",
   "metadata": {
    "colab_type": "text",
    "id": "1n8CqEMMBY4p"
   },
   "source": []
  },
  {
   "cell_type": "code",
   "execution_count": null,
   "metadata": {},
   "outputs": [],
   "source": []
  }
 ],
 "metadata": {
  "accelerator": "GPU",
  "colab": {
   "name": "使用tensorflow2.0和LSTM的文本多分类2.ipynb",
   "provenance": []
  },
  "kernelspec": {
   "display_name": "ml-python",
   "language": "python",
   "name": "ml-python"
  },
  "language_info": {
   "codemirror_mode": {
    "name": "ipython",
    "version": 3
   },
   "file_extension": ".py",
   "mimetype": "text/x-python",
   "name": "python",
   "nbconvert_exporter": "python",
   "pygments_lexer": "ipython3",
   "version": "3.7.8"
  },
  "toc": {
   "base_numbering": 1,
   "nav_menu": {},
   "number_sections": true,
   "sideBar": true,
   "skip_h1_title": false,
   "title_cell": "Table of Contents",
   "title_sidebar": "Contents",
   "toc_cell": false,
   "toc_position": {},
   "toc_section_display": true,
   "toc_window_display": false
  }
 },
 "nbformat": 4,
 "nbformat_minor": 1
}
